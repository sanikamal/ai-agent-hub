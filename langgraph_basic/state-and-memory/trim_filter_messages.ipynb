{
  "cells": [
    {
      "cell_type": "markdown",
      "id": "c52ea2f9-03ff-4647-b782-46867ebed04e",
      "metadata": {
        "id": "c52ea2f9-03ff-4647-b782-46867ebed04e"
      },
      "source": [
        "# Filtering and trimming messages\n",
        "\n",
        "Let's first talk a bit more about advanced ways to work with messages in graph state."
      ]
    },
    {
      "cell_type": "code",
      "execution_count": 1,
      "id": "d5197aba-5d46-421b-ae3b-4e3034edcfda",
      "metadata": {
        "id": "d5197aba-5d46-421b-ae3b-4e3034edcfda"
      },
      "outputs": [],
      "source": [
        "%%capture --no-stderr\n",
        "%pip install --quiet -U langchain_core langgraph langchain_openai"
      ]
    },
    {
      "cell_type": "code",
      "execution_count": 2,
      "id": "768dc606-d5f2-468d-96ea-910b264e0f8a",
      "metadata": {
        "id": "768dc606-d5f2-468d-96ea-910b264e0f8a",
        "outputId": "d693c9dd-2bf3-4897-9dce-3d7064a4d523",
        "colab": {
          "base_uri": "https://localhost:8080/"
        }
      },
      "outputs": [
        {
          "name": "stdout",
          "output_type": "stream",
          "text": [
            "OPENAI_API_KEY: ··········\n"
          ]
        }
      ],
      "source": [
        "import os, getpass\n",
        "\n",
        "def _set_env(var: str):\n",
        "    if not os.environ.get(var):\n",
        "        os.environ[var] = getpass.getpass(f\"{var}: \")\n",
        "\n",
        "_set_env(\"OPENAI_API_KEY\")"
      ]
    },
    {
      "cell_type": "markdown",
      "id": "8b64d8d3-e4ac-4961-bdc0-688825eb5864",
      "metadata": {
        "id": "8b64d8d3-e4ac-4961-bdc0-688825eb5864"
      },
      "source": [
        "We'll use [LangSmith](https://docs.smith.langchain.com/) for [tracing](https://docs.smith.langchain.com/concepts/tracing).\n",
        "\n",
        "We'll log to a project, `langchain-academy`."
      ]
    },
    {
      "cell_type": "code",
      "source": [
        "_set_env(\"LANGSMITH_API_KEY\")\n",
        "os.environ[\"LANGSMITH_TRACING\"] = \"true\"\n",
        "os.environ[\"LANGSMITH_PROJECT\"] = \"langchain-demo\""
      ],
      "metadata": {
        "id": "RkuuL5vfGGZu"
      },
      "id": "RkuuL5vfGGZu",
      "execution_count": null,
      "outputs": []
    },
    {
      "cell_type": "markdown",
      "id": "72f3fc90-58b6-4f7f-897e-dddf6ae532c7",
      "metadata": {
        "id": "72f3fc90-58b6-4f7f-897e-dddf6ae532c7"
      },
      "source": [
        "## Messages as state\n",
        "\n",
        "First, let's define some messages."
      ]
    },
    {
      "cell_type": "code",
      "execution_count": 4,
      "id": "cf11a463-e27a-4a05-b41d-64882e38edca",
      "metadata": {
        "id": "cf11a463-e27a-4a05-b41d-64882e38edca",
        "outputId": "c1491f3f-7c7b-477e-f8ab-4b9b0c2563c6",
        "colab": {
          "base_uri": "https://localhost:8080/"
        }
      },
      "outputs": [
        {
          "output_type": "stream",
          "name": "stdout",
          "text": [
            "==================================\u001b[1m Ai Message \u001b[0m==================================\n",
            "Name: Robin\n",
            "\n",
            "So you said you were researching ocean mammals?\n",
            "================================\u001b[1m Human Message \u001b[0m=================================\n",
            "Name: Lance\n",
            "\n",
            "Yes, I know about whales. But what others should I learn about?\n"
          ]
        }
      ],
      "source": [
        "from pprint import pprint\n",
        "from langchain_core.messages import AIMessage, HumanMessage\n",
        "messages = [AIMessage(f\"So you said you were researching ocean mammals?\", name=\"Robin\")]\n",
        "messages.append(HumanMessage(f\"Yes, I know about whales. But what others should I learn about?\", name=\"Lance\"))\n",
        "\n",
        "for m in messages:\n",
        "    m.pretty_print()"
      ]
    },
    {
      "cell_type": "markdown",
      "id": "b814adcb-6bf9-4b75-be11-e59f933fbd0c",
      "metadata": {
        "id": "b814adcb-6bf9-4b75-be11-e59f933fbd0c"
      },
      "source": [
        "Recall we can pass them to a chat model."
      ]
    },
    {
      "cell_type": "code",
      "execution_count": 5,
      "id": "4712e288-e622-48a2-ad3f-a52f65f3ab08",
      "metadata": {
        "id": "4712e288-e622-48a2-ad3f-a52f65f3ab08",
        "outputId": "cf97580d-0359-4e21-e149-23de840d809b",
        "colab": {
          "base_uri": "https://localhost:8080/"
        }
      },
      "outputs": [
        {
          "output_type": "execute_result",
          "data": {
            "text/plain": [
              "AIMessage(content='In addition to whales, there are several other fascinating ocean mammals you might want to explore:\\n\\n1. **Dolphins**: Known for their intelligence and playful behavior, dolphins are part of the family Delphinidae and are found in oceans around the world.\\n\\n2. **Porpoises**: Smaller and less well-known than dolphins, porpoises belong to the family Phocoenidae and have a more robust body and different facial structure.\\n\\n3. **Seals**: These marine mammals are part of the pinniped family and are adapted to life both in and out of the water. They are found in various climates from polar waters to tropical beaches.\\n\\n4. **Sea Lions**: Also part of the pinniped family, sea lions are known for their external ear flaps and ability to walk on land using their large flippers.\\n\\n5. **Walruses**: Recognized by their tusks and whiskers, walruses are large pinnipeds primarily found in Arctic regions.\\n\\n6. **Manatees**: Also known as sea cows, manatees are gentle herbivores that inhabit warm coastal waters, rivers, and springs.\\n\\n7. **Dugongs**: Closely related to manatees, dugongs are found in warm coastal waters from East Africa to Australia and are the only strictly marine herbivorous mammals.\\n\\n8. **Sea Otters**: These are the smallest marine mammals and are known for their playful behavior and use of tools to open shellfish.\\n\\n9. **Polar Bears**: While primarily land animals, polar bears rely heavily on the ocean for hunting seals and are considered marine mammals.\\n\\n10. **Sperm Whales**: Known for their large brains and deep-diving abilities, sperm whales are toothed whales that hunt squid and other deep-sea creatures.\\n\\nEach of these species has unique adaptations that enable them to thrive in their specific marine environments. They are all worth learning about for their ecological significance and the roles they play in marine ecosystems.', additional_kwargs={'refusal': None}, response_metadata={'token_usage': {'completion_tokens': 407, 'prompt_tokens': 39, 'total_tokens': 446, 'completion_tokens_details': {'accepted_prediction_tokens': 0, 'audio_tokens': 0, 'reasoning_tokens': 0, 'rejected_prediction_tokens': 0}, 'prompt_tokens_details': {'audio_tokens': 0, 'cached_tokens': 0}}, 'model_name': 'gpt-4o-2024-08-06', 'system_fingerprint': 'fp_46bff0e0c8', 'id': 'chatcmpl-C7IDgvxdsafvx4slcNuS7TADluWdy', 'service_tier': 'default', 'finish_reason': 'stop', 'logprobs': None}, id='run--d4ab4a71-b551-4dab-a4c9-2e78533f7688-0', usage_metadata={'input_tokens': 39, 'output_tokens': 407, 'total_tokens': 446, 'input_token_details': {'audio': 0, 'cache_read': 0}, 'output_token_details': {'audio': 0, 'reasoning': 0}})"
            ]
          },
          "metadata": {},
          "execution_count": 5
        }
      ],
      "source": [
        "from langchain_openai import ChatOpenAI\n",
        "llm = ChatOpenAI(model=\"gpt-4o\")\n",
        "llm.invoke(messages)"
      ]
    },
    {
      "cell_type": "markdown",
      "id": "fbd1dab8-0af8-4621-8264-ce65065f76ec",
      "metadata": {
        "id": "fbd1dab8-0af8-4621-8264-ce65065f76ec"
      },
      "source": [
        "We can run our chat model in a simple graph with `MessagesState`."
      ]
    },
    {
      "cell_type": "code",
      "execution_count": 6,
      "id": "bbd8c39c-633b-4176-9cc6-8318e42bb5dd",
      "metadata": {
        "id": "bbd8c39c-633b-4176-9cc6-8318e42bb5dd",
        "outputId": "12bc3075-a409-421b-d008-8124549d66e2",
        "colab": {
          "base_uri": "https://localhost:8080/",
          "height": 251
        }
      },
      "outputs": [
        {
          "output_type": "display_data",
          "data": {
            "image/png": "[encoded data removed]",
            "text/plain": [
              "<IPython.core.display.Image object>"
            ]
          },
          "metadata": {}
        }
      ],
      "source": [
        "from IPython.display import Image, display\n",
        "from langgraph.graph import MessagesState\n",
        "from langgraph.graph import StateGraph, START, END\n",
        "\n",
        "# Node\n",
        "def chat_model_node(state: MessagesState):\n",
        "    return {\"messages\": llm.invoke(state[\"messages\"])}\n",
        "\n",
        "# Build graph\n",
        "builder = StateGraph(MessagesState)\n",
        "builder.add_node(\"chat_model\", chat_model_node)\n",
        "builder.add_edge(START, \"chat_model\")\n",
        "builder.add_edge(\"chat_model\", END)\n",
        "graph = builder.compile()\n",
        "\n",
        "# View\n",
        "display(Image(graph.get_graph().draw_mermaid_png()))"
      ]
    },
    {
      "cell_type": "code",
      "execution_count": 7,
      "id": "3a5a3e4a-ccfd-4d14-81f1-f0de6e11a1e4",
      "metadata": {
        "id": "3a5a3e4a-ccfd-4d14-81f1-f0de6e11a1e4",
        "outputId": "a623e13b-30fe-464a-f40e-8d2d5ff3e115",
        "colab": {
          "base_uri": "https://localhost:8080/"
        }
      },
      "outputs": [
        {
          "output_type": "stream",
          "name": "stdout",
          "text": [
            "==================================\u001b[1m Ai Message \u001b[0m==================================\n",
            "Name: Robin\n",
            "\n",
            "So you said you were researching ocean mammals?\n",
            "================================\u001b[1m Human Message \u001b[0m=================================\n",
            "Name: Lance\n",
            "\n",
            "Yes, I know about whales. But what others should I learn about?\n",
            "==================================\u001b[1m Ai Message \u001b[0m==================================\n",
            "\n",
            "In addition to whales, there are several other fascinating groups of ocean mammals you might want to explore:\n",
            "\n",
            "1. **Dolphins**: Highly intelligent and social creatures, dolphins are part of the cetacean family along with whales. Common species include the bottlenose dolphin and the orca, or killer whale, which is actually the largest member of the dolphin family.\n",
            "\n",
            "2. **Porpoises**: Similar to dolphins but generally smaller and stouter, porpoises are another group in the cetacean family. Harbor porpoises are one of the most commonly known species.\n",
            "\n",
            "3. **Seals**: These are part of the pinniped family and include species like harbor seals and elephant seals. They are known for their adaptations to both land and water environments.\n",
            "\n",
            "4. **Sea Lions and Fur Seals**: Also part of the pinniped family, these animals have external ear flaps and are able to walk on land using their large flippers. The California sea lion is a well-known species.\n",
            "\n",
            "5. **Walruses**: Recognized for their distinctive tusks and whiskers, walruses are another member of the pinniped family and are primarily found in Arctic regions.\n",
            "\n",
            "6. **Manatees and Dugongs**: Often referred to as sea cows, these gentle herbivores are part of the sirenian family and are known for their slow movements and large size.\n",
            "\n",
            "7. **Sea Otters**: Although not as closely related to the other marine mammals, sea otters play a crucial role in their ecosystem, particularly in maintaining the health of kelp forests.\n",
            "\n",
            "8. **Polar Bears**: While they are not exclusively marine, polar bears spend much of their time on sea ice in the Arctic and rely heavily on marine environments for hunting.\n",
            "\n",
            "Each of these ocean mammals has unique adaptations and plays specific roles in their ecosystems, making them all worth studying for a well-rounded understanding of marine life.\n"
          ]
        }
      ],
      "source": [
        "output = graph.invoke({'messages': messages})\n",
        "for m in output['messages']:\n",
        "    m.pretty_print()"
      ]
    },
    {
      "cell_type": "markdown",
      "id": "34c33e63-1ef4-412d-bb10-6a1b9e5b35a7",
      "metadata": {
        "id": "34c33e63-1ef4-412d-bb10-6a1b9e5b35a7"
      },
      "source": [
        "## Reducer\n",
        "\n",
        "A practical challenge when working with messages is managing long-running conversations.\n",
        "\n",
        "Long-running conversations result in high token usage and latency if we are not careful, because we pass a growing list of messages to the model.\n",
        "\n",
        "We have a few ways to address this.\n",
        "\n",
        "First, recall the trick we saw using `RemoveMessage` and the `add_messages` reducer."
      ]
    },
    {
      "cell_type": "code",
      "execution_count": 8,
      "id": "222c6bc5-bb0e-4a43-80f5-c8ec38d99f3a",
      "metadata": {
        "id": "222c6bc5-bb0e-4a43-80f5-c8ec38d99f3a",
        "outputId": "c2ad2406-daf2-48a0-f796-4b29b81571b8",
        "colab": {
          "base_uri": "https://localhost:8080/",
          "height": 350
        }
      },
      "outputs": [
        {
          "output_type": "display_data",
          "data": {
            "image/png": "[encoded data removed]",
            "text/plain": [
              "<IPython.core.display.Image object>"
            ]
          },
          "metadata": {}
        }
      ],
      "source": [
        "from langchain_core.messages import RemoveMessage\n",
        "\n",
        "# Nodes\n",
        "def filter_messages(state: MessagesState):\n",
        "    # Delete all but the 2 most recent messages\n",
        "    delete_messages = [RemoveMessage(id=m.id) for m in state[\"messages\"][:-2]]\n",
        "    return {\"messages\": delete_messages}\n",
        "\n",
        "def chat_model_node(state: MessagesState):\n",
        "    return {\"messages\": [llm.invoke(state[\"messages\"])]}\n",
        "\n",
        "# Build graph\n",
        "builder = StateGraph(MessagesState)\n",
        "builder.add_node(\"filter\", filter_messages)\n",
        "builder.add_node(\"chat_model\", chat_model_node)\n",
        "builder.add_edge(START, \"filter\")\n",
        "builder.add_edge(\"filter\", \"chat_model\")\n",
        "builder.add_edge(\"chat_model\", END)\n",
        "graph = builder.compile()\n",
        "\n",
        "# View\n",
        "display(Image(graph.get_graph().draw_mermaid_png()))"
      ]
    },
    {
      "cell_type": "code",
      "execution_count": 9,
      "id": "95a7c2cc-54ce-43e7-9a90-abf37827d709",
      "metadata": {
        "id": "95a7c2cc-54ce-43e7-9a90-abf37827d709",
        "outputId": "d9c8d3f5-b0cd-44e3-a0d2-13bc2f89c1f3",
        "colab": {
          "base_uri": "https://localhost:8080/"
        }
      },
      "outputs": [
        {
          "output_type": "stream",
          "name": "stdout",
          "text": [
            "==================================\u001b[1m Ai Message \u001b[0m==================================\n",
            "Name: Robin\n",
            "\n",
            "So you said you were researching ocean mammals?\n",
            "================================\u001b[1m Human Message \u001b[0m=================================\n",
            "Name: Lance\n",
            "\n",
            "Yes, I know about whales. But what others should I learn about?\n",
            "==================================\u001b[1m Ai Message \u001b[0m==================================\n",
            "\n",
            "There are several fascinating ocean mammals besides whales that you might want to explore. Here are a few noteworthy ones:\n",
            "\n",
            "1. **Dolphins**: Highly intelligent and social animals, dolphins are known for their playful behavior and acrobatic abilities. There are several species, including the common bottlenose dolphin and the orca, which is technically a type of dolphin.\n",
            "\n",
            "2. **Seals and Sea Lions**: These are pinnipeds, a group that also includes walruses. Seals like the harbor seal are more adapted for life in the water, whereas sea lions and fur seals, such as the Californian sea lion, are more agile on land.\n",
            "\n",
            "3. **Manatees and Dugongs**: These are large, slow-moving herbivorous marine mammals often referred to as \"sea cows.\" Manatees are found in the warmer waters of the Caribbean and the Gulf of Mexico, while dugongs are found in the coastal waters of the Indian and Pacific Oceans.\n",
            "\n",
            "4. **Walruses**: Known for their characteristic tusks and whiskers, walruses are social animals that primarily feed on the sea floor, using their tusks to help themselves move on ice.\n",
            "\n",
            "5. **Sea Otters**: Although they spend a lot of time on the surface, sea otters are excellent divers and play a crucial role in maintaining kelp forest ecosystems by preying on sea urchins.\n",
            "\n",
            "6. **Polar Bears**: While not strictly ocean dwellers, polar bears spend a great deal of time on sea ice hunting for seals, making them a key part of marine ecosystems in the Arctic.\n",
            "\n",
            "Each of these species has unique adaptations to their aquatic environments and plays important roles in their ecosystems. They also face various conservation challenges, such as habitat destruction, climate change, and pollution, making them important subjects for research and conservation efforts.\n"
          ]
        }
      ],
      "source": [
        "# Message list with a preamble\n",
        "messages = [AIMessage(\"Hi.\", name=\"Robin\", id=\"1\")]\n",
        "messages.append(HumanMessage(\"Hi.\", name=\"Lance\", id=\"2\"))\n",
        "messages.append(AIMessage(\"So you said you were researching ocean mammals?\", name=\"Robin\", id=\"3\"))\n",
        "messages.append(HumanMessage(\"Yes, I know about whales. But what others should I learn about?\", name=\"Lance\", id=\"4\"))\n",
        "\n",
        "# Invoke\n",
        "output = graph.invoke({'messages': messages})\n",
        "for m in output['messages']:\n",
        "    m.pretty_print()"
      ]
    },
    {
      "cell_type": "markdown",
      "id": "f506457d-014b-4fee-a684-e5edfb4b8f0d",
      "metadata": {
        "id": "f506457d-014b-4fee-a684-e5edfb4b8f0d"
      },
      "source": [
        "## Filtering messages\n",
        "\n",
        "If you don't need or want to modify the graph state, you can just filter the messages you pass to the chat model.\n",
        "\n",
        "For example, just pass in a filtered list: `llm.invoke(messages[-1:])` to the model."
      ]
    },
    {
      "cell_type": "code",
      "execution_count": 10,
      "id": "22d0b904-7cd6-486b-8948-105bee3d4683",
      "metadata": {
        "id": "22d0b904-7cd6-486b-8948-105bee3d4683",
        "outputId": "050eee87-e013-40ca-b568-7f9d54983776",
        "colab": {
          "base_uri": "https://localhost:8080/",
          "height": 251
        }
      },
      "outputs": [
        {
          "output_type": "display_data",
          "data": {
            "image/png": "[encoded data removed]",
            "text/plain": [
              "<IPython.core.display.Image object>"
            ]
          },
          "metadata": {}
        }
      ],
      "source": [
        "# Node\n",
        "def chat_model_node(state: MessagesState):\n",
        "    return {\"messages\": [llm.invoke(state[\"messages\"][-1:])]}\n",
        "\n",
        "# Build graph\n",
        "builder = StateGraph(MessagesState)\n",
        "builder.add_node(\"chat_model\", chat_model_node)\n",
        "builder.add_edge(START, \"chat_model\")\n",
        "builder.add_edge(\"chat_model\", END)\n",
        "graph = builder.compile()\n",
        "\n",
        "# View\n",
        "display(Image(graph.get_graph().draw_mermaid_png()))"
      ]
    },
    {
      "cell_type": "markdown",
      "id": "6f58c6fc-532f-418d-b70a-cfcb3307daf5",
      "metadata": {
        "id": "6f58c6fc-532f-418d-b70a-cfcb3307daf5"
      },
      "source": [
        "Let's take our existing list of messages, append the above LLM response, and append a follow-up question."
      ]
    },
    {
      "cell_type": "code",
      "execution_count": 11,
      "id": "16956015-1dbe-4108-89b5-4209b68b51ca",
      "metadata": {
        "id": "16956015-1dbe-4108-89b5-4209b68b51ca"
      },
      "outputs": [],
      "source": [
        "messages.append(output['messages'][-1])\n",
        "messages.append(HumanMessage(f\"Tell me more about Narwhals!\", name=\"Lance\"))"
      ]
    },
    {
      "cell_type": "code",
      "execution_count": 12,
      "id": "85563415-c085-46a8-a4ac-155df798c54e",
      "metadata": {
        "id": "85563415-c085-46a8-a4ac-155df798c54e",
        "outputId": "de14cb26-6007-4a6d-8b2d-a9d6326f3101",
        "colab": {
          "base_uri": "https://localhost:8080/"
        }
      },
      "outputs": [
        {
          "output_type": "stream",
          "name": "stdout",
          "text": [
            "==================================\u001b[1m Ai Message \u001b[0m==================================\n",
            "Name: Robin\n",
            "\n",
            "Hi.\n",
            "================================\u001b[1m Human Message \u001b[0m=================================\n",
            "Name: Lance\n",
            "\n",
            "Hi.\n",
            "==================================\u001b[1m Ai Message \u001b[0m==================================\n",
            "Name: Robin\n",
            "\n",
            "So you said you were researching ocean mammals?\n",
            "================================\u001b[1m Human Message \u001b[0m=================================\n",
            "Name: Lance\n",
            "\n",
            "Yes, I know about whales. But what others should I learn about?\n",
            "==================================\u001b[1m Ai Message \u001b[0m==================================\n",
            "\n",
            "There are several fascinating ocean mammals besides whales that you might want to explore. Here are a few noteworthy ones:\n",
            "\n",
            "1. **Dolphins**: Highly intelligent and social animals, dolphins are known for their playful behavior and acrobatic abilities. There are several species, including the common bottlenose dolphin and the orca, which is technically a type of dolphin.\n",
            "\n",
            "2. **Seals and Sea Lions**: These are pinnipeds, a group that also includes walruses. Seals like the harbor seal are more adapted for life in the water, whereas sea lions and fur seals, such as the Californian sea lion, are more agile on land.\n",
            "\n",
            "3. **Manatees and Dugongs**: These are large, slow-moving herbivorous marine mammals often referred to as \"sea cows.\" Manatees are found in the warmer waters of the Caribbean and the Gulf of Mexico, while dugongs are found in the coastal waters of the Indian and Pacific Oceans.\n",
            "\n",
            "4. **Walruses**: Known for their characteristic tusks and whiskers, walruses are social animals that primarily feed on the sea floor, using their tusks to help themselves move on ice.\n",
            "\n",
            "5. **Sea Otters**: Although they spend a lot of time on the surface, sea otters are excellent divers and play a crucial role in maintaining kelp forest ecosystems by preying on sea urchins.\n",
            "\n",
            "6. **Polar Bears**: While not strictly ocean dwellers, polar bears spend a great deal of time on sea ice hunting for seals, making them a key part of marine ecosystems in the Arctic.\n",
            "\n",
            "Each of these species has unique adaptations to their aquatic environments and plays important roles in their ecosystems. They also face various conservation challenges, such as habitat destruction, climate change, and pollution, making them important subjects for research and conservation efforts.\n",
            "================================\u001b[1m Human Message \u001b[0m=================================\n",
            "Name: Lance\n",
            "\n",
            "Tell me more about Narwhals!\n"
          ]
        }
      ],
      "source": [
        "for m in messages:\n",
        "    m.pretty_print()"
      ]
    },
    {
      "cell_type": "code",
      "execution_count": 13,
      "id": "23349705-a059-47b5-9760-d8f64e687393",
      "metadata": {
        "id": "23349705-a059-47b5-9760-d8f64e687393",
        "outputId": "33dcf945-3f1d-46a3-bcd7-d7e3bd62dc68",
        "colab": {
          "base_uri": "https://localhost:8080/"
        }
      },
      "outputs": [
        {
          "output_type": "stream",
          "name": "stdout",
          "text": [
            "==================================\u001b[1m Ai Message \u001b[0m==================================\n",
            "Name: Robin\n",
            "\n",
            "Hi.\n",
            "================================\u001b[1m Human Message \u001b[0m=================================\n",
            "Name: Lance\n",
            "\n",
            "Hi.\n",
            "==================================\u001b[1m Ai Message \u001b[0m==================================\n",
            "Name: Robin\n",
            "\n",
            "So you said you were researching ocean mammals?\n",
            "================================\u001b[1m Human Message \u001b[0m=================================\n",
            "Name: Lance\n",
            "\n",
            "Yes, I know about whales. But what others should I learn about?\n",
            "==================================\u001b[1m Ai Message \u001b[0m==================================\n",
            "\n",
            "There are several fascinating ocean mammals besides whales that you might want to explore. Here are a few noteworthy ones:\n",
            "\n",
            "1. **Dolphins**: Highly intelligent and social animals, dolphins are known for their playful behavior and acrobatic abilities. There are several species, including the common bottlenose dolphin and the orca, which is technically a type of dolphin.\n",
            "\n",
            "2. **Seals and Sea Lions**: These are pinnipeds, a group that also includes walruses. Seals like the harbor seal are more adapted for life in the water, whereas sea lions and fur seals, such as the Californian sea lion, are more agile on land.\n",
            "\n",
            "3. **Manatees and Dugongs**: These are large, slow-moving herbivorous marine mammals often referred to as \"sea cows.\" Manatees are found in the warmer waters of the Caribbean and the Gulf of Mexico, while dugongs are found in the coastal waters of the Indian and Pacific Oceans.\n",
            "\n",
            "4. **Walruses**: Known for their characteristic tusks and whiskers, walruses are social animals that primarily feed on the sea floor, using their tusks to help themselves move on ice.\n",
            "\n",
            "5. **Sea Otters**: Although they spend a lot of time on the surface, sea otters are excellent divers and play a crucial role in maintaining kelp forest ecosystems by preying on sea urchins.\n",
            "\n",
            "6. **Polar Bears**: While not strictly ocean dwellers, polar bears spend a great deal of time on sea ice hunting for seals, making them a key part of marine ecosystems in the Arctic.\n",
            "\n",
            "Each of these species has unique adaptations to their aquatic environments and plays important roles in their ecosystems. They also face various conservation challenges, such as habitat destruction, climate change, and pollution, making them important subjects for research and conservation efforts.\n",
            "================================\u001b[1m Human Message \u001b[0m=================================\n",
            "Name: Lance\n",
            "\n",
            "Tell me more about Narwhals!\n",
            "==================================\u001b[1m Ai Message \u001b[0m==================================\n",
            "\n",
            "Narwhals (Monodon monoceros) are fascinating marine mammals known for their distinctive long, spiral tusks. They are part of the cetacean family, which includes whales, dolphins, and porpoises. Narwhals are often referred to as the \"unicorns of the sea\" due to their unique appearance.\n",
            "\n",
            "### Physical Characteristics\n",
            "- **Tusks:** The most notable feature of the narwhal is its tusk, which is actually an elongated upper left canine tooth that protrudes forward from its head. It can grow up to 10 feet (about 3 meters) in length. About one in 500 males have two tusks, and sometimes females can have tusks too, though it’s rare.\n",
            "- **Coloration:** Narwhals have a speckled color pattern that can range from gray to nearly black, with older narwhals usually appearing whiter.\n",
            "\n",
            "### Habitat\n",
            "- **Geographic Range:** Narwhals inhabit the Arctic waters around Greenland, Canada, and Russia. They are particularly associated with the pack ice and are well-adapted to life in cold temperatures.\n",
            "- **Habitat:** They prefer deep coastal waters and are known to dive to great depths in search of food.\n",
            "\n",
            "### Behavior and Diet\n",
            "- **Diet:** Narwhals primarily feed on fish, squid, and shrimp. Their diet can vary seasonally and is often dependent on the availability of prey.\n",
            "- **Diving:** They are exceptional divers, capable of reaching depths over 1,500 meters (4,900 feet) and can remain submerged for up to 25 minutes.\n",
            "- **Social Structure:** Narwhals are social animals often found in groups, or pods, which can range from a few individuals to several dozen.\n",
            "\n",
            "### Reproduction\n",
            "- **Breeding:** Narwhal calving generally occurs in the spring. After a gestation period of about 14 months, females give birth to a single calf.\n",
            "- **Calves:** Mothers nurse their young for over a year, ensuring they develop the necessary survival skills.\n",
            "\n",
            "### Conservation\n",
            "- **Status:** Currently, the International Union for Conservation of Nature (IUCN) lists the narwhal as \"Near Threatened.\" Key threats include climate change, which affects their ice-covered habitats, and human activities such as shipping and hunting.\n",
            "- **Hunting:** Indigenous communities in the Arctic have traditionally hunted narwhals for their tusks and blubber, though modern legislation regulates hunting to prevent population decline.\n",
            "\n",
            "### Unique Facts\n",
            "- The exact purpose of the tusk is still debated, but it is believed to have multiple functions, including use in mating rituals, dominance displays, and possibly sensory perception.\n",
            "- Narwhals lack a dorsal fin, which is thought to help them swim easily under ice-covered waters.\n",
            "\n",
            "Narwhals continue to be an area of interest for researchers, particularly due to their mysterious nature and the unique challenges they face in their rapidly changing Arctic environment.\n"
          ]
        }
      ],
      "source": [
        "# Invoke, using message filtering\n",
        "output = graph.invoke({'messages': messages})\n",
        "for m in output['messages']:\n",
        "    m.pretty_print()"
      ]
    },
    {
      "cell_type": "markdown",
      "id": "42e1d8d2-e297-4d78-b54c-d12b3c866745",
      "metadata": {
        "id": "42e1d8d2-e297-4d78-b54c-d12b3c866745"
      },
      "source": [
        "The state has all of the mesages.\n",
        "\n",
        "But, let's look at the LangSmith trace to see that the model invocation only uses the last message:\n",
        "\n",
        "https://smith.langchain.com/public/75aca3ce-ef19-4b92-94be-0178c7a660d9/r"
      ]
    },
    {
      "cell_type": "markdown",
      "id": "fc40d930-3c1f-47fe-8d2a-ce174873353c",
      "metadata": {
        "id": "fc40d930-3c1f-47fe-8d2a-ce174873353c"
      },
      "source": [
        "## Trim messages\n",
        "\n",
        "Another approach is to [trim messages](https://python.langchain.com/v0.2/docs/how_to/trim_messages/#getting-the-last-max_tokens-tokens), based upon a set number of tokens.\n",
        "\n",
        "This restricts the message history to a specified number of tokens.\n",
        "\n",
        "While filtering only returns a post-hoc subset of the messages between agents, trimming restricts the number of tokens that a chat model can use to respond.\n",
        "\n",
        "See the `trim_messages` below."
      ]
    },
    {
      "cell_type": "code",
      "execution_count": 14,
      "id": "2ff99b81-cf03-4cc2-b44f-44829a73e1fd",
      "metadata": {
        "id": "2ff99b81-cf03-4cc2-b44f-44829a73e1fd",
        "outputId": "73d8df2d-5458-434a-910d-000a5971e702",
        "colab": {
          "base_uri": "https://localhost:8080/",
          "height": 251
        }
      },
      "outputs": [
        {
          "output_type": "display_data",
          "data": {
            "image/png": "[encoded data removed]",
            "text/plain": [
              "<IPython.core.display.Image object>"
            ]
          },
          "metadata": {}
        }
      ],
      "source": [
        "from langchain_core.messages import trim_messages\n",
        "\n",
        "# Node\n",
        "def chat_model_node(state: MessagesState):\n",
        "    messages = trim_messages(\n",
        "            state[\"messages\"],\n",
        "            max_tokens=100,\n",
        "            strategy=\"last\",\n",
        "            token_counter=ChatOpenAI(model=\"gpt-4o\"),\n",
        "            allow_partial=False,\n",
        "        )\n",
        "    return {\"messages\": [llm.invoke(messages)]}\n",
        "\n",
        "# Build graph\n",
        "builder = StateGraph(MessagesState)\n",
        "builder.add_node(\"chat_model\", chat_model_node)\n",
        "builder.add_edge(START, \"chat_model\")\n",
        "builder.add_edge(\"chat_model\", END)\n",
        "graph = builder.compile()\n",
        "\n",
        "# View\n",
        "display(Image(graph.get_graph().draw_mermaid_png()))"
      ]
    },
    {
      "cell_type": "code",
      "execution_count": 15,
      "id": "24df63ac-da29-4874-b3df-7e390e97cc8a",
      "metadata": {
        "id": "24df63ac-da29-4874-b3df-7e390e97cc8a"
      },
      "outputs": [],
      "source": [
        "messages.append(output['messages'][-1])\n",
        "messages.append(HumanMessage(f\"Tell me where Orcas live!\", name=\"Lance\"))"
      ]
    },
    {
      "cell_type": "code",
      "execution_count": 16,
      "id": "6d9d8971-c75c-43ca-a209-eb1d07b2ead0",
      "metadata": {
        "id": "6d9d8971-c75c-43ca-a209-eb1d07b2ead0",
        "outputId": "7ed6470f-21e8-48e0-8f96-f507bb2e4c6c",
        "colab": {
          "base_uri": "https://localhost:8080/"
        }
      },
      "outputs": [
        {
          "output_type": "execute_result",
          "data": {
            "text/plain": [
              "[HumanMessage(content='Tell me where Orcas live!', additional_kwargs={}, response_metadata={}, name='Lance')]"
            ]
          },
          "metadata": {},
          "execution_count": 16
        }
      ],
      "source": [
        "# Example of trimming messages\n",
        "trim_messages(\n",
        "            messages,\n",
        "            max_tokens=100,\n",
        "            strategy=\"last\",\n",
        "            token_counter=ChatOpenAI(model=\"gpt-4o\"),\n",
        "            allow_partial=False\n",
        "        )"
      ]
    },
    {
      "cell_type": "code",
      "execution_count": 17,
      "id": "ed70a269-a869-4fa0-a1df-29736a432c51",
      "metadata": {
        "id": "ed70a269-a869-4fa0-a1df-29736a432c51"
      },
      "outputs": [],
      "source": [
        "# Invoke, using message trimming in the chat_model_node\n",
        "messages_out_trim = graph.invoke({'messages': messages})"
      ]
    },
    {
      "cell_type": "code",
      "source": [
        "messages_out_trim"
      ],
      "metadata": {
        "id": "q5_lakNYF4Ui",
        "outputId": "5a6cd767-ebfd-4594-945f-035969b91665",
        "colab": {
          "base_uri": "https://localhost:8080/"
        }
      },
      "id": "q5_lakNYF4Ui",
      "execution_count": 18,
      "outputs": [
        {
          "output_type": "execute_result",
          "data": {
            "text/plain": [
              "{'messages': [AIMessage(content='Hi.', additional_kwargs={}, response_metadata={}, name='Robin', id='1'),\n",
              "  HumanMessage(content='Hi.', additional_kwargs={}, response_metadata={}, name='Lance', id='2'),\n",
              "  AIMessage(content='So you said you were researching ocean mammals?', additional_kwargs={}, response_metadata={}, name='Robin', id='3'),\n",
              "  HumanMessage(content='Yes, I know about whales. But what others should I learn about?', additional_kwargs={}, response_metadata={}, name='Lance', id='4'),\n",
              "  AIMessage(content='There are several fascinating ocean mammals besides whales that you might want to explore. Here are a few noteworthy ones:\\n\\n1. **Dolphins**: Highly intelligent and social animals, dolphins are known for their playful behavior and acrobatic abilities. There are several species, including the common bottlenose dolphin and the orca, which is technically a type of dolphin.\\n\\n2. **Seals and Sea Lions**: These are pinnipeds, a group that also includes walruses. Seals like the harbor seal are more adapted for life in the water, whereas sea lions and fur seals, such as the Californian sea lion, are more agile on land.\\n\\n3. **Manatees and Dugongs**: These are large, slow-moving herbivorous marine mammals often referred to as \"sea cows.\" Manatees are found in the warmer waters of the Caribbean and the Gulf of Mexico, while dugongs are found in the coastal waters of the Indian and Pacific Oceans.\\n\\n4. **Walruses**: Known for their characteristic tusks and whiskers, walruses are social animals that primarily feed on the sea floor, using their tusks to help themselves move on ice.\\n\\n5. **Sea Otters**: Although they spend a lot of time on the surface, sea otters are excellent divers and play a crucial role in maintaining kelp forest ecosystems by preying on sea urchins.\\n\\n6. **Polar Bears**: While not strictly ocean dwellers, polar bears spend a great deal of time on sea ice hunting for seals, making them a key part of marine ecosystems in the Arctic.\\n\\nEach of these species has unique adaptations to their aquatic environments and plays important roles in their ecosystems. They also face various conservation challenges, such as habitat destruction, climate change, and pollution, making them important subjects for research and conservation efforts.', additional_kwargs={'refusal': None}, response_metadata={'token_usage': {'completion_tokens': 375, 'prompt_tokens': 39, 'total_tokens': 414, 'completion_tokens_details': {'accepted_prediction_tokens': 0, 'audio_tokens': 0, 'reasoning_tokens': 0, 'rejected_prediction_tokens': 0}, 'prompt_tokens_details': {'audio_tokens': 0, 'cached_tokens': 0}}, 'model_name': 'gpt-4o-2024-08-06', 'system_fingerprint': 'fp_46bff0e0c8', 'id': 'chatcmpl-C7IGKb1nn2puz3MVA97Z7YACdB01z', 'service_tier': 'default', 'finish_reason': 'stop', 'logprobs': None}, id='run--b325776e-3405-42ac-8b22-32e667b894cd-0', usage_metadata={'input_tokens': 39, 'output_tokens': 375, 'total_tokens': 414, 'input_token_details': {'audio': 0, 'cache_read': 0}, 'output_token_details': {'audio': 0, 'reasoning': 0}}),\n",
              "  HumanMessage(content='Tell me more about Narwhals!', additional_kwargs={}, response_metadata={}, name='Lance', id='da7c4f7f-30ba-4ba4-8871-ff80ab9f2f8b'),\n",
              "  AIMessage(content='Narwhals (Monodon monoceros) are fascinating marine mammals known for their distinctive long, spiral tusks. They are part of the cetacean family, which includes whales, dolphins, and porpoises. Narwhals are often referred to as the \"unicorns of the sea\" due to their unique appearance.\\n\\n### Physical Characteristics\\n- **Tusks:** The most notable feature of the narwhal is its tusk, which is actually an elongated upper left canine tooth that protrudes forward from its head. It can grow up to 10 feet (about 3 meters) in length. About one in 500 males have two tusks, and sometimes females can have tusks too, though it’s rare.\\n- **Coloration:** Narwhals have a speckled color pattern that can range from gray to nearly black, with older narwhals usually appearing whiter.\\n\\n### Habitat\\n- **Geographic Range:** Narwhals inhabit the Arctic waters around Greenland, Canada, and Russia. They are particularly associated with the pack ice and are well-adapted to life in cold temperatures.\\n- **Habitat:** They prefer deep coastal waters and are known to dive to great depths in search of food.\\n\\n### Behavior and Diet\\n- **Diet:** Narwhals primarily feed on fish, squid, and shrimp. Their diet can vary seasonally and is often dependent on the availability of prey.\\n- **Diving:** They are exceptional divers, capable of reaching depths over 1,500 meters (4,900 feet) and can remain submerged for up to 25 minutes.\\n- **Social Structure:** Narwhals are social animals often found in groups, or pods, which can range from a few individuals to several dozen.\\n\\n### Reproduction\\n- **Breeding:** Narwhal calving generally occurs in the spring. After a gestation period of about 14 months, females give birth to a single calf.\\n- **Calves:** Mothers nurse their young for over a year, ensuring they develop the necessary survival skills.\\n\\n### Conservation\\n- **Status:** Currently, the International Union for Conservation of Nature (IUCN) lists the narwhal as \"Near Threatened.\" Key threats include climate change, which affects their ice-covered habitats, and human activities such as shipping and hunting.\\n- **Hunting:** Indigenous communities in the Arctic have traditionally hunted narwhals for their tusks and blubber, though modern legislation regulates hunting to prevent population decline.\\n\\n### Unique Facts\\n- The exact purpose of the tusk is still debated, but it is believed to have multiple functions, including use in mating rituals, dominance displays, and possibly sensory perception.\\n- Narwhals lack a dorsal fin, which is thought to help them swim easily under ice-covered waters.\\n\\nNarwhals continue to be an area of interest for researchers, particularly due to their mysterious nature and the unique challenges they face in their rapidly changing Arctic environment.', additional_kwargs={'refusal': None}, response_metadata={'token_usage': {'completion_tokens': 597, 'prompt_tokens': 17, 'total_tokens': 614, 'completion_tokens_details': {'accepted_prediction_tokens': 0, 'audio_tokens': 0, 'reasoning_tokens': 0, 'rejected_prediction_tokens': 0}, 'prompt_tokens_details': {'audio_tokens': 0, 'cached_tokens': 0}}, 'model_name': 'gpt-4o-2024-08-06', 'system_fingerprint': 'fp_80956533cb', 'id': 'chatcmpl-C7IHA90PWUIthCyLEDJC84plyX9Cl', 'service_tier': 'default', 'finish_reason': 'stop', 'logprobs': None}, id='run--7a7f8e4f-34cb-46b7-8904-934cf3ae2b12-0', usage_metadata={'input_tokens': 17, 'output_tokens': 597, 'total_tokens': 614, 'input_token_details': {'audio': 0, 'cache_read': 0}, 'output_token_details': {'audio': 0, 'reasoning': 0}}),\n",
              "  HumanMessage(content='Tell me where Orcas live!', additional_kwargs={}, response_metadata={}, name='Lance', id='3d466397-90f0-4bc9-89c8-698b6aa26fb6'),\n",
              "  AIMessage(content=\"Orcas, also known as killer whales, are found in all of the world's oceans, from the polar regions to tropical seas. They inhabit a variety of marine environments, including:\\n\\n1. **Arctic and Antarctic Regions**: Orcas are commonly found in the cold waters of the Arctic and Antarctic Oceans. They are well-adapted to these chilly environments and can often be seen around ice floes and in proximity to pack ice.\\n\\n2. **Coastal Waters**: These whales are often seen in coastal waters where food is abundant. They can be found near the coasts of North America, South America, Africa, New Zealand, Australia, and Norway, among others.\\n\\n3. **Open Ocean**: Orcas are also present in the open ocean, where they live in both deep and shallow waters. They can travel long distances and have been observed crossing entire ocean basins.\\n\\n4. **Temperate Regions**: Many orca populations thrive in temperate regions, such as the North Atlantic and the North Pacific. In these areas, they are often encountered in the waters off the coast of British Columbia, Alaska, and the Pacific Northwest in the United States.\\n\\nOrcas are highly versatile and adaptable, capable of living in a wide range of marine environments due to their diverse diet and complex social structures. Different ecotypes of orcas have evolved to adapt to specific habitats and prey, leading to variations in behavior and appearance among populations.\", additional_kwargs={'refusal': None}, response_metadata={'token_usage': {'completion_tokens': 290, 'prompt_tokens': 16, 'total_tokens': 306, 'completion_tokens_details': {'accepted_prediction_tokens': 0, 'audio_tokens': 0, 'reasoning_tokens': 0, 'rejected_prediction_tokens': 0}, 'prompt_tokens_details': {'audio_tokens': 0, 'cached_tokens': 0}}, 'model_name': 'gpt-4o-2024-08-06', 'system_fingerprint': 'fp_46bff0e0c8', 'id': 'chatcmpl-C7IHgnPUHhLjwatesY9OJHCpXAT0W', 'service_tier': 'default', 'finish_reason': 'stop', 'logprobs': None}, id='run--f1ea93ac-52ba-4f3f-93d7-db1b860bfea7-0', usage_metadata={'input_tokens': 16, 'output_tokens': 290, 'total_tokens': 306, 'input_token_details': {'audio': 0, 'cache_read': 0}, 'output_token_details': {'audio': 0, 'reasoning': 0}})]}"
            ]
          },
          "metadata": {},
          "execution_count": 18
        }
      ]
    },
    {
      "cell_type": "markdown",
      "id": "38b3db67-380e-46b5-9a6a-20100ba52008",
      "metadata": {
        "id": "38b3db67-380e-46b5-9a6a-20100ba52008"
      },
      "source": [
        "Let's look at the LangSmith trace to see the model invocation:"
      ]
    },
    {
      "cell_type": "code",
      "source": [],
      "metadata": {
        "id": "XoYqG64yF7Wg"
      },
      "id": "XoYqG64yF7Wg",
      "execution_count": null,
      "outputs": []
    }
  ],
  "metadata": {
    "kernelspec": {
      "display_name": "Python 3 (ipykernel)",
      "language": "python",
      "name": "python3"
    },
    "language_info": {
      "codemirror_mode": {
        "name": "ipython",
        "version": 3
      },
      "file_extension": ".py",
      "mimetype": "text/x-python",
      "name": "python",
      "nbconvert_exporter": "python",
      "pygments_lexer": "ipython3",
      "version": "3.12.1"
    },
    "colab": {
      "provenance": []
    }
  },
  "nbformat": 4,
  "nbformat_minor": 5
}