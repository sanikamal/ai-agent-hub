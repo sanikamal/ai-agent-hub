{
 "cells": [
  {
   "cell_type": "markdown",
   "id": "911b3b37-3b29-4833-94f2-bfe47af00c83",
   "metadata": {},
   "source": [
    "# Essay Writer\n",
    "Develop an agent for essay writing, replicating the workflow of a researcher working on this task."
   ]
  },
  {
   "cell_type": "code",
   "execution_count": 1,
   "id": "f5762271-8736-4e94-9444-8c92bd0e8074",
   "metadata": {
    "height": 64
   },
   "outputs": [],
   "source": [
    "from dotenv import load_dotenv\n",
    "\n",
    "_ = load_dotenv()"
   ]
  },
  {
   "cell_type": "code",
   "execution_count": 2,
   "id": "d0168aee-bce9-4d60-b827-f86a88187e31",
   "metadata": {
    "height": 132
   },
   "outputs": [],
   "source": [
    "from langgraph.graph import StateGraph, END\n",
    "from typing import TypedDict, Annotated, List\n",
    "import operator\n",
    "from langgraph.checkpoint.sqlite import SqliteSaver\n",
    "from langchain_core.messages import AnyMessage, SystemMessage, HumanMessage, AIMessage, ChatMessage\n",
    "\n",
    "memory = SqliteSaver.from_conn_string(\":memory:\")"
   ]
  },
  {
   "cell_type": "code",
   "execution_count": 3,
   "id": "2589c5b6-6cc2-4594-9a17-dccdcf676054",
   "metadata": {
    "height": 149
   },
   "outputs": [],
   "source": [
    "class AgentState(TypedDict):\n",
    "    task: str\n",
    "    plan: str\n",
    "    draft: str\n",
    "    critique: str\n",
    "    content: List[str]\n",
    "    revision_number: int\n",
    "    max_revisions: int"
   ]
  },
  {
   "cell_type": "code",
   "execution_count": 4,
   "id": "a2ba84ec-c172-4de7-ac55-e3158a531b23",
   "metadata": {
    "height": 47
   },
   "outputs": [],
   "source": [
    "from langchain_openai import ChatOpenAI\n",
    "model = ChatOpenAI(model=\"gpt-3.5-turbo\", temperature=0)"
   ]
  },
  {
   "cell_type": "code",
   "execution_count": 5,
   "id": "876d5092-b8ef-4e38-b4d7-0e80c609bf7a",
   "metadata": {
    "height": 64
   },
   "outputs": [],
   "source": [
    "PLAN_PROMPT = \"\"\"You are an expert writer tasked with writing a high level outline of an essay. \\\n",
    "Write such an outline for the user provided topic. Give an outline of the essay along with any relevant notes \\\n",
    "or instructions for the sections.\"\"\""
   ]
  },
  {
   "cell_type": "code",
   "execution_count": 6,
   "id": "10084a02-2928-4945-9f7c-ad3f5b33caf7",
   "metadata": {
    "height": 149
   },
   "outputs": [],
   "source": [
    "WRITER_PROMPT = \"\"\"You are an essay assistant tasked with writing excellent 5-paragraph essays.\\\n",
    "Generate the best essay possible for the user's request and the initial outline. \\\n",
    "If the user provides critique, respond with a revised version of your previous attempts. \\\n",
    "Utilize all the information below as needed: \n",
    "\n",
    "------\n",
    "\n",
    "{content}\"\"\""
   ]
  },
  {
   "cell_type": "code",
   "execution_count": 7,
   "id": "714d1205-f8fc-4912-b148-2a45da99219c",
   "metadata": {
    "height": 64
   },
   "outputs": [],
   "source": [
    "REFLECTION_PROMPT = \"\"\"You are a teacher grading an essay submission. \\\n",
    "Generate critique and recommendations for the user's submission. \\\n",
    "Provide detailed recommendations, including requests for length, depth, style, etc.\"\"\""
   ]
  },
  {
   "cell_type": "code",
   "execution_count": 8,
   "id": "83588e70-254f-4f83-a510-c8ae81e729b0",
   "metadata": {
    "height": 81
   },
   "outputs": [],
   "source": [
    "RESEARCH_PLAN_PROMPT = \"\"\"You are a researcher charged with providing information that can \\\n",
    "be used when writing the following essay. Generate a list of search queries that will gather \\\n",
    "any relevant information. Only generate 3 queries max.\"\"\"\n"
   ]
  },
  {
   "cell_type": "code",
   "execution_count": 9,
   "id": "6cb3ef4c-58b3-401b-b104-0d51e553d982",
   "metadata": {
    "height": 81
   },
   "outputs": [],
   "source": [
    "RESEARCH_CRITIQUE_PROMPT = \"\"\"You are a researcher charged with providing information that can \\\n",
    "be used when making any requested revisions (as outlined below). \\\n",
    "Generate a list of search queries that will gather any relevant information. Only generate 3 queries max.\"\"\"\n"
   ]
  },
  {
   "cell_type": "code",
   "execution_count": 10,
   "id": "dc3293b7-a50c-43c8-a022-8975e1e444b8",
   "metadata": {
    "height": 81
   },
   "outputs": [],
   "source": [
    "from langchain_core.pydantic_v1 import BaseModel\n",
    "\n",
    "class Queries(BaseModel):\n",
    "    queries: List[str]"
   ]
  },
  {
   "cell_type": "code",
   "execution_count": 11,
   "id": "0722c3d4-4cbf-43bf-81b0-50f634c4ce61",
   "metadata": {
    "height": 64
   },
   "outputs": [],
   "source": [
    "from tavily import TavilyClient\n",
    "import os\n",
    "tavily = TavilyClient(api_key=os.environ[\"TAVILY_API_KEY\"])"
   ]
  },
  {
   "cell_type": "code",
   "execution_count": 12,
   "id": "6b2f82fe-3ec4-4917-be51-9fb10d1317fa",
   "metadata": {
    "height": 132
   },
   "outputs": [],
   "source": [
    "def plan_node(state: AgentState):\n",
    "    messages = [\n",
    "        SystemMessage(content=PLAN_PROMPT), \n",
    "        HumanMessage(content=state['task'])\n",
    "    ]\n",
    "    response = model.invoke(messages)\n",
    "    return {\"plan\": response.content}"
   ]
  },
  {
   "cell_type": "code",
   "execution_count": 13,
   "id": "ee0fe1c7-77e2-499c-a2f9-1f739bb6ddf0",
   "metadata": {
    "height": 200
   },
   "outputs": [],
   "source": [
    "def research_plan_node(state: AgentState):\n",
    "    queries = model.with_structured_output(Queries).invoke([\n",
    "        SystemMessage(content=RESEARCH_PLAN_PROMPT),\n",
    "        HumanMessage(content=state['task'])\n",
    "    ])\n",
    "    content = state['content'] or []\n",
    "    for q in queries.queries:\n",
    "        response = tavily.search(query=q, max_results=2)\n",
    "        for r in response['results']:\n",
    "            content.append(r['content'])\n",
    "    return {\"content\": content}"
   ]
  },
  {
   "cell_type": "code",
   "execution_count": 14,
   "id": "98f303b1-a4d0-408c-8cc0-515ff980717f",
   "metadata": {
    "height": 285
   },
   "outputs": [],
   "source": [
    "def generation_node(state: AgentState):\n",
    "    content = \"\\n\\n\".join(state['content'] or [])\n",
    "    user_message = HumanMessage(\n",
    "        content=f\"{state['task']}\\n\\nHere is my plan:\\n\\n{state['plan']}\")\n",
    "    messages = [\n",
    "        SystemMessage(\n",
    "            content=WRITER_PROMPT.format(content=content)\n",
    "        ),\n",
    "        user_message\n",
    "        ]\n",
    "    response = model.invoke(messages)\n",
    "    return {\n",
    "        \"draft\": response.content, \n",
    "        \"revision_number\": state.get(\"revision_number\", 1) + 1\n",
    "    }\n"
   ]
  },
  {
   "cell_type": "code",
   "execution_count": 15,
   "id": "bf4dcb93-6298-4cfd-b3ce-61dfac7fb35f",
   "metadata": {
    "height": 132
   },
   "outputs": [],
   "source": [
    "def reflection_node(state: AgentState):\n",
    "    messages = [\n",
    "        SystemMessage(content=REFLECTION_PROMPT), \n",
    "        HumanMessage(content=state['draft'])\n",
    "    ]\n",
    "    response = model.invoke(messages)\n",
    "    return {\"critique\": response.content}"
   ]
  },
  {
   "cell_type": "code",
   "execution_count": 16,
   "id": "932883a4-c722-42bb-aec0-b4f41c5c81a4",
   "metadata": {
    "height": 200
   },
   "outputs": [],
   "source": [
    "def research_critique_node(state: AgentState):\n",
    "    queries = model.with_structured_output(Queries).invoke([\n",
    "        SystemMessage(content=RESEARCH_CRITIQUE_PROMPT),\n",
    "        HumanMessage(content=state['critique'])\n",
    "    ])\n",
    "    content = state['content'] or []\n",
    "    for q in queries.queries:\n",
    "        response = tavily.search(query=q, max_results=2)\n",
    "        for r in response['results']:\n",
    "            content.append(r['content'])\n",
    "    return {\"content\": content}"
   ]
  },
  {
   "cell_type": "code",
   "execution_count": 17,
   "id": "ff362f49-dcf1-4ea1-a86c-e516e9ab897d",
   "metadata": {
    "height": 81
   },
   "outputs": [],
   "source": [
    "def should_continue(state):\n",
    "    if state[\"revision_number\"] > state[\"max_revisions\"]:\n",
    "        return END\n",
    "    return \"reflect\""
   ]
  },
  {
   "cell_type": "code",
   "execution_count": 18,
   "id": "a7e15a20-83d7-434c-8551-bce8dcc32be0",
   "metadata": {
    "height": 30
   },
   "outputs": [],
   "source": [
    "builder = StateGraph(AgentState)"
   ]
  },
  {
   "cell_type": "code",
   "execution_count": 19,
   "id": "54ab2c74-f32e-490c-a85d-932d11444210",
   "metadata": {
    "height": 98
   },
   "outputs": [],
   "source": [
    "builder.add_node(\"planner\", plan_node)\n",
    "builder.add_node(\"generate\", generation_node)\n",
    "builder.add_node(\"reflect\", reflection_node)\n",
    "builder.add_node(\"research_plan\", research_plan_node)\n",
    "builder.add_node(\"research_critique\", research_critique_node)"
   ]
  },
  {
   "cell_type": "code",
   "execution_count": 20,
   "id": "a833d3ce-bd31-4319-811d-decff226b970",
   "metadata": {
    "height": 30
   },
   "outputs": [],
   "source": [
    "builder.set_entry_point(\"planner\")"
   ]
  },
  {
   "cell_type": "code",
   "execution_count": 21,
   "id": "76e93cce-6eab-4c7c-ac64-e9993fdb30d6",
   "metadata": {
    "height": 115
   },
   "outputs": [],
   "source": [
    "builder.add_conditional_edges(\n",
    "    \"generate\", \n",
    "    should_continue, \n",
    "    {END: END, \"reflect\": \"reflect\"}\n",
    ")\n"
   ]
  },
  {
   "cell_type": "code",
   "execution_count": 22,
   "id": "fd2d0990-a932-423f-9ff3-5cada58c5f32",
   "metadata": {
    "height": 98
   },
   "outputs": [],
   "source": [
    "builder.add_edge(\"planner\", \"research_plan\")\n",
    "builder.add_edge(\"research_plan\", \"generate\")\n",
    "\n",
    "builder.add_edge(\"reflect\", \"research_critique\")\n",
    "builder.add_edge(\"research_critique\", \"generate\")"
   ]
  },
  {
   "cell_type": "code",
   "execution_count": 23,
   "id": "27cde654-64e2-48bc-80a9-0ed668ccb7dc",
   "metadata": {
    "height": 30
   },
   "outputs": [],
   "source": [
    "graph = builder.compile(checkpointer=memory)"
   ]
  },
  {
   "cell_type": "code",
   "execution_count": 24,
   "id": "4871f644-b131-4065-b7ce-b82c20a41f11",
   "metadata": {
    "height": 64
   },
   "outputs": [
    {
     "data": {
      "image/png": "[encoded data removed]",
      "text/plain": [
       "<IPython.core.display.Image object>"
      ]
     },
     "execution_count": 24,
     "metadata": {},
     "output_type": "execute_result"
    }
   ],
   "source": [
    "from IPython.display import Image\n",
    "\n",
    "Image(graph.get_graph().draw_png())"
   ]
  },
  {
   "cell_type": "code",
   "execution_count": 25,
   "id": "98f3be1d-cc4c-41fa-9863-3e386e88e305",
   "metadata": {
    "height": 132
   },
   "outputs": [
    {
     "name": "stdout",
     "output_type": "stream",
     "text": [
      "{'planner': {'plan': 'I. Introduction\\n    A. Brief overview of Langchain and Langsmith\\n    B. Thesis statement: Exploring the differences between Langchain and Langsmith\\n\\nII. Langchain\\n    A. Definition and explanation\\n    B. Key features and characteristics\\n    C. Use cases and applications\\n    D. Advantages and disadvantages\\n\\nIII. Langsmith\\n    A. Definition and explanation\\n    B. Key features and characteristics\\n    C. Use cases and applications\\n    D. Advantages and disadvantages\\n\\nIV. Comparison between Langchain and Langsmith\\n    A. Technology stack\\n    B. Scalability\\n    C. Security\\n    D. Performance\\n    E. Adoption and popularity\\n\\nV. Conclusion\\n    A. Recap of main differences between Langchain and Langsmith\\n    B. Implications for the future of blockchain technology\\n    C. Final thoughts and recommendations\\n\\nNotes:\\n- Ensure to provide clear definitions and explanations of both Langchain and Langsmith.\\n- Include specific examples of real-world applications for each technology.\\n- Use data and statistics to support the comparison between the two technologies.\\n- Conclude with insights on the potential impact of Langchain and Langsmith on the blockchain industry.'}}\n",
      "{'research_plan': {'content': ['If you’re responsible for ensuring your AI models work in production, or you need to frequently debug and monitor your pipelines, Langsmith is your go-to tool. In short, while Langchain excels at managing and scaling model workflows, Langsmith is designed for those times when you need deep visibility and control over large, complex AI systems in production. But if you’re managing a complex AI pipeline with multiple models that need debugging and orchestrating, Langsmith’s capabilities become essential. If you’re debugging complex AI models or managing large-scale workflows with multiple moving parts, Langsmith’s advanced debugging and orchestration features will be indispensable. Additionally, if you’re working on cross-platform model deployments — say, running models on-prem and in the cloud simultaneously — Langsmith offers better orchestration and monitoring tools to handle the complexity.', \"In this blog, we'll delve into the differences between LangChain and LangSmith, their pros and cons, and when to use each one. LangChain. LangChain is an open-source Python package that provides a framework for building and deploying LLM applications. It allows developers to create prototypes quickly and easily, making it an ideal choice for\", 'LangChain and LangSmith are two complementary tools that cater to different stages and requirements of LLM development. LangChain is ideal for early-stage prototyping and small-scale applications, while LangSmith is better suited for large-scale, production-ready applications that require advanced debugging, testing, and monitoring capabilities', 'If you’re responsible for ensuring your AI models work in production, or you need to frequently debug and monitor your pipelines, Langsmith is your go-to tool. In short, while Langchain excels at managing and scaling model workflows, Langsmith is designed for those times when you need deep visibility and control over large, complex AI systems in production. But if you’re managing a complex AI pipeline with multiple models that need debugging and orchestrating, Langsmith’s capabilities become essential. If you’re debugging complex AI models or managing large-scale workflows with multiple moving parts, Langsmith’s advanced debugging and orchestration features will be indispensable. Additionally, if you’re working on cross-platform model deployments — say, running models on-prem and in the cloud simultaneously — Langsmith offers better orchestration and monitoring tools to handle the complexity.', 'LangChain and LangSmith are two complementary tools that cater to different stages and requirements of LLM development. LangChain is ideal for early-stage prototyping and small-scale applications, while LangSmith is better suited for large-scale, production-ready applications that require advanced debugging, testing, and monitoring capabilities', 'Discover the key differences between LangGraph, LangChain, LangFlow, and LangSmith, and learn which framework is best suited for your language model applications — from workflow building to performance monitoring. While the other tools focus on building workflows, LangSmith is designed for monitoring and debugging language model applications. Use LangGraph if you prefer graph-based, visual workflows for building complex LLM tasks. Use LangChain if you need a robust, flexible solution for creating language model applications programmatically. Each of these tools — LangGraph, LangChain, LangFlow, and LangSmith — caters to different stages of developing and managing language model applications. LangGraph provides a visual, intuitive way to build complex workflows, while LangChain offers a robust, code-first solution for developers looking to create scalable applications.']}}\n",
      "{'generate': {'draft': \"**Essay:**\\n\\n**I. Introduction**\\n\\nLangchain and Langsmith are two essential tools in the realm of AI development, each serving distinct purposes in managing and scaling AI workflows. This essay aims to delve into the disparities between Langchain and Langsmith, shedding light on their unique features and applications.\\n\\n**II. Langchain**\\n\\nLangchain is an open-source Python package tailored for building and deploying LLM applications swiftly and efficiently. It is particularly advantageous for early-stage prototyping and small-scale applications due to its user-friendly framework. Developers find Langchain ideal for creating prototypes with ease, making it a preferred choice for projects requiring quick iterations and experimentation. However, its scalability and advanced debugging capabilities are limited compared to Langsmith.\\n\\n**III. Langsmith**\\n\\nIn contrast, Langsmith is designed for managing large-scale, production-ready AI applications that demand intricate debugging, testing, and monitoring features. It excels in providing deep visibility and control over complex AI systems in production environments. Langsmith becomes indispensable when handling complex AI pipelines with multiple models that require meticulous debugging and orchestration. Moreover, its advanced features are crucial for managing large-scale workflows with multiple moving parts and cross-platform model deployments.\\n\\n**IV. Comparison between Langchain and Langsmith**\\n\\n- **Technology Stack:** Langchain primarily focuses on rapid prototyping with a user-friendly interface, while Langsmith emphasizes advanced debugging and monitoring capabilities for complex AI systems.\\n  \\n- **Scalability:** Langsmith outshines Langchain in terms of scalability, offering better orchestration and monitoring tools for large-scale applications.\\n  \\n- **Security:** Both tools prioritize security; however, Langsmith's advanced features provide enhanced security measures for intricate AI systems.\\n  \\n- **Performance:** Langsmith's advanced debugging and orchestration features contribute to superior performance in managing complex AI workflows compared to Langchain.\\n  \\n- **Adoption and Popularity:** Langchain is popular among developers for its ease of use in prototyping, while Langsmith gains traction for its robust features in managing production-ready AI applications.\\n\\n**V. Conclusion**\\n\\nIn conclusion, Langchain and Langsmith cater to distinct stages and requirements in LLM development. While Langchain is ideal for rapid prototyping and small-scale applications, Langsmith shines in managing large-scale, production-ready AI systems with advanced debugging and monitoring capabilities. Understanding the differences between these tools is crucial for developers to choose the most suitable option based on their project requirements, ultimately shaping the future landscape of AI development.\", 'revision_number': 2}}\n",
      "{'reflect': {'critique': \"**Critique:**\\n\\nThe essay provides a concise overview of Langchain and Langsmith, highlighting their key features and applications. The introduction effectively sets the stage for the comparison between the two tools, and the conclusion effectively summarizes the main points discussed. However, there are areas where the essay can be improved to provide a more comprehensive analysis.\\n\\n**Recommendations:**\\n\\n1. **Depth and Detail:** While the essay touches upon the main differences between Langchain and Langsmith, it would benefit from a more in-depth analysis of each tool's specific features, functionalities, and use cases. Providing concrete examples or case studies to illustrate how each tool is utilized in real-world scenarios would enhance the reader's understanding.\\n\\n2. **Technical Comparison:** Consider delving deeper into the technical aspects of Langchain and Langsmith, such as the underlying architecture, key components, integration capabilities, and compatibility with different AI frameworks. This would provide a more nuanced comparison and help readers grasp the technical nuances of each tool.\\n\\n3. **Pros and Cons:** It would be valuable to include a section outlining the strengths and weaknesses of Langchain and Langsmith. By discussing the advantages and limitations of each tool, readers can make informed decisions about which tool aligns best with their specific project requirements.\\n\\n4. **Future Developments:** Discussing potential future developments or trends in the field of AI development tools, particularly in relation to Langchain and Langsmith, would add a forward-looking perspective to the essay. This could involve exploring emerging technologies, industry advancements, or areas for improvement in existing tools.\\n\\n5. **Case Studies or Use Cases:** Incorporating real-world case studies or use cases where Langchain and Langsmith have been successfully implemented would provide concrete examples of how these tools are utilized in practice. This would make the essay more engaging and relevant to readers interested in AI development.\\n\\n6. **Formatting and Structure:** Ensure that the essay is well-structured with clear section headings and a logical flow of ideas. Consider breaking down the comparison between Langchain and Langsmith into subcategories for easier comprehension and navigation.\\n\\n7. **Length and Expansion:** Expand on each section to provide a more comprehensive analysis of Langchain and Langsmith. Aim to provide a balanced discussion of both tools, covering a wide range of aspects to offer a holistic view of their capabilities and limitations.\\n\\nBy incorporating these recommendations, you can enhance the depth and quality of your essay, providing readers with a more insightful and informative analysis of Langchain and Langsmith in the context of AI development.\"}}\n"
     ]
    },
    {
     "name": "stdout",
     "output_type": "stream",
     "text": [
      "{'research_critique': {'content': ['If you’re responsible for ensuring your AI models work in production, or you need to frequently debug and monitor your pipelines, Langsmith is your go-to tool. In short, while Langchain excels at managing and scaling model workflows, Langsmith is designed for those times when you need deep visibility and control over large, complex AI systems in production. But if you’re managing a complex AI pipeline with multiple models that need debugging and orchestrating, Langsmith’s capabilities become essential. If you’re debugging complex AI models or managing large-scale workflows with multiple moving parts, Langsmith’s advanced debugging and orchestration features will be indispensable. Additionally, if you’re working on cross-platform model deployments — say, running models on-prem and in the cloud simultaneously — Langsmith offers better orchestration and monitoring tools to handle the complexity.', \"In this blog, we'll delve into the differences between LangChain and LangSmith, their pros and cons, and when to use each one. LangChain. LangChain is an open-source Python package that provides a framework for building and deploying LLM applications. It allows developers to create prototypes quickly and easily, making it an ideal choice for\", 'LangChain and LangSmith are two complementary tools that cater to different stages and requirements of LLM development. LangChain is ideal for early-stage prototyping and small-scale applications, while LangSmith is better suited for large-scale, production-ready applications that require advanced debugging, testing, and monitoring capabilities', 'If you’re responsible for ensuring your AI models work in production, or you need to frequently debug and monitor your pipelines, Langsmith is your go-to tool. In short, while Langchain excels at managing and scaling model workflows, Langsmith is designed for those times when you need deep visibility and control over large, complex AI systems in production. But if you’re managing a complex AI pipeline with multiple models that need debugging and orchestrating, Langsmith’s capabilities become essential. If you’re debugging complex AI models or managing large-scale workflows with multiple moving parts, Langsmith’s advanced debugging and orchestration features will be indispensable. Additionally, if you’re working on cross-platform model deployments — say, running models on-prem and in the cloud simultaneously — Langsmith offers better orchestration and monitoring tools to handle the complexity.', 'LangChain and LangSmith are two complementary tools that cater to different stages and requirements of LLM development. LangChain is ideal for early-stage prototyping and small-scale applications, while LangSmith is better suited for large-scale, production-ready applications that require advanced debugging, testing, and monitoring capabilities', 'Discover the key differences between LangGraph, LangChain, LangFlow, and LangSmith, and learn which framework is best suited for your language model applications — from workflow building to performance monitoring. While the other tools focus on building workflows, LangSmith is designed for monitoring and debugging language model applications. Use LangGraph if you prefer graph-based, visual workflows for building complex LLM tasks. Use LangChain if you need a robust, flexible solution for creating language model applications programmatically. Each of these tools — LangGraph, LangChain, LangFlow, and LangSmith — caters to different stages of developing and managing language model applications. LangGraph provides a visual, intuitive way to build complex workflows, while LangChain offers a robust, code-first solution for developers looking to create scalable applications.', \"Extensibility: The framework's expandability allows developers to incorporate their own features and functionalities. Simple to use: LangChain provides a high-level API for integrating language models with a range of data sources and creating intricate apps. Open source: LangChain is a freely available framework that can be used and altered.\", \"LangChain is an open-source framework for developing apps that make use of large language models (LLMs) and similar features, like chatbots. LangChain's tools and APIs make it easier to set up some impressive uses of natural language processing (NLP) and LLMs (more on that later!).\", 'Technical reference that covers components, APIs, and other aspects of LangSmith. API API Reference; SDK Python SDK Reference; LangChain off-the-shelf evaluators (Python only) Common data types Run; Feedback; Example; Run query syntax; Dataset schema prebuilt types; Dataset transformations; Architecture Cloud architecture and scalability', 'Architecture The US-based LangSmith service is deployed in the us-central1 (Iowa) region of GCP. NOTE: ... LangSmith is designed to be scalable and performant. As of load testing done in February 2024, LangSmith can comfortably process 500K+ runs (spans) per minute. We anticipate that LangSmith can process 750K+ runs per minute with the', 'If you’re responsible for ensuring your AI models work in production, or you need to frequently debug and monitor your pipelines, Langsmith is your go-to tool. In short, while Langchain excels at managing and scaling model workflows, Langsmith is designed for those times when you need deep visibility and control over large, complex AI systems in production. But if you’re managing a complex AI pipeline with multiple models that need debugging and orchestrating, Langsmith’s capabilities become essential. If you’re debugging complex AI models or managing large-scale workflows with multiple moving parts, Langsmith’s advanced debugging and orchestration features will be indispensable. Additionally, if you’re working on cross-platform model deployments — say, running models on-prem and in the cloud simultaneously — Langsmith offers better orchestration and monitoring tools to handle the complexity.', \"In this blog, we'll delve into the differences between LangChain and LangSmith, their pros and cons, and when to use each one. LangChain. LangChain is an open-source Python package that provides a framework for building and deploying LLM applications. It allows developers to create prototypes quickly and easily, making it an ideal choice for\"]}}\n",
      "{'generate': {'draft': \"**Title: Exploring the Contrasts Between LangChain and LangSmith**\\n\\nI. Introduction\\nLangChain and LangSmith are two distinct tools in the realm of AI model development and management. While LangChain focuses on early-stage prototyping and small-scale applications, LangSmith is tailored for large-scale, production-ready systems requiring advanced debugging and monitoring capabilities. This essay aims to delve into the disparities between LangChain and LangSmith to provide a comprehensive understanding of their unique features and applications.\\n\\nII. LangChain\\nLangChain is an open-source Python package designed for building and deploying LLM applications swiftly. Its key features include rapid prototyping capabilities, ease of use, and flexibility. Developers often utilize LangChain for creating prototypes efficiently, making it an ideal choice for initial stages of application development. However, its simplicity may limit its suitability for complex, large-scale projects. \\n\\nIII. LangSmith\\nIn contrast, LangSmith is a tool that offers deep visibility and control over intricate AI systems in production. It excels in debugging and orchestrating complex AI pipelines, making it indispensable for managing large-scale workflows with multiple moving parts. LangSmith's advanced debugging and orchestration features are particularly valuable for scenarios requiring meticulous monitoring and control over AI systems.\\n\\nIV. Comparison between LangChain and LangSmith\\nA. Technology Stack: LangChain is built as an open-source Python package, emphasizing ease of use and quick prototyping. On the other hand, LangSmith provides advanced monitoring and debugging features, catering to complex AI systems.\\nB. Scalability: LangChain may lack the scalability required for large, intricate AI projects, whereas LangSmith is tailored for handling the complexity of extensive workflows and model deployments.\\nC. Security: Both LangChain and LangSmith prioritize security; however, LangSmith's focus on production systems implies a higher level of security measures.\\nD. Performance: LangChain's performance is optimized for rapid prototyping, while LangSmith's emphasis on monitoring and debugging may impact performance slightly.\\nE. Adoption and Popularity: LangChain may be more popular for initial prototyping due to its ease of use, while LangSmith gains traction in scenarios necessitating advanced monitoring and control.\\n\\nV. Conclusion\\nIn conclusion, LangChain and LangSmith serve distinct purposes in the AI model development landscape. Understanding the differences between these tools is crucial for selecting the most suitable option based on project requirements. While LangChain is ideal for rapid prototyping and small-scale applications, LangSmith shines in managing large, complex AI systems with advanced debugging and monitoring needs. The future of AI model development will likely see a continued reliance on specialized tools like LangChain and LangSmith to cater to diverse project demands.\", 'revision_number': 3}}\n"
     ]
    }
   ],
   "source": [
    "thread = {\"configurable\": {\"thread_id\": \"1\"}}\n",
    "for s in graph.stream({\n",
    "    'task': \"what is the difference between langchain and langsmith\",\n",
    "    \"max_revisions\": 2,\n",
    "    \"revision_number\": 1,\n",
    "}, thread):\n",
    "    print(s)"
   ]
  },
  {
   "cell_type": "code",
   "execution_count": null,
   "id": "0ad8a6cc-65d4-4ce7-87aa-4e67d7c23d7b",
   "metadata": {
    "height": 30
   },
   "outputs": [],
   "source": []
  },
  {
   "cell_type": "markdown",
   "id": "4d1664b5-75e0-46b7-9c2b-4ac9171f4597",
   "metadata": {},
   "source": [
    "## Essay Writer Interface"
   ]
  },
  {
   "cell_type": "code",
   "execution_count": 26,
   "id": "6e0ae270-3ec3-484a-b729-df7d2b7b0f76",
   "metadata": {
    "height": 7357
   },
   "outputs": [],
   "source": [
    "import warnings\n",
    "warnings.filterwarnings(\"ignore\")\n",
    "\n",
    "import warnings\n",
    "warnings.filterwarnings(\"ignore\", message=\".*TqdmWarning.*\")\n",
    "from dotenv import load_dotenv\n",
    "\n",
    "_ = load_dotenv()\n",
    "\n",
    "from langgraph.graph import StateGraph, END\n",
    "from typing import TypedDict, Annotated, List\n",
    "import operator\n",
    "from langgraph.checkpoint.sqlite import SqliteSaver\n",
    "from langchain_core.messages import AnyMessage, SystemMessage, HumanMessage, AIMessage, ChatMessage\n",
    "from langchain_openai import ChatOpenAI\n",
    "from langchain_core.pydantic_v1 import BaseModel\n",
    "from tavily import TavilyClient\n",
    "import os\n",
    "import sqlite3\n",
    "\n",
    "class AgentState(TypedDict):\n",
    "    task: str\n",
    "    lnode: str\n",
    "    plan: str\n",
    "    draft: str\n",
    "    critique: str\n",
    "    content: List[str]\n",
    "    queries: List[str]\n",
    "    revision_number: int\n",
    "    max_revisions: int\n",
    "    count: Annotated[int, operator.add]\n",
    "\n",
    "\n",
    "class Queries(BaseModel):\n",
    "    queries: List[str]\n",
    "    \n",
    "class ewriter():\n",
    "    def __init__(self):\n",
    "        self.model = ChatOpenAI(model=\"gpt-3.5-turbo\", temperature=0)\n",
    "        self.PLAN_PROMPT = (\"You are an expert writer tasked with writing a high level outline of a short 3 paragraph essay. \"\n",
    "                            \"Write such an outline for the user provided topic. Give the three main headers of an outline of \"\n",
    "                             \"the essay along with any relevant notes or instructions for the sections. \")\n",
    "        self.WRITER_PROMPT = (\"You are an essay assistant tasked with writing excellent 3 paragraph essays. \"\n",
    "                              \"Generate the best essay possible for the user's request and the initial outline. \"\n",
    "                              \"If the user provides critique, respond with a revised version of your previous attempts. \"\n",
    "                              \"Utilize all the information below as needed: \\n\"\n",
    "                              \"------\\n\"\n",
    "                              \"{content}\")\n",
    "        self.RESEARCH_PLAN_PROMPT = (\"You are a researcher charged with providing information that can \"\n",
    "                                     \"be used when writing the following essay. Generate a list of search \"\n",
    "                                     \"queries that will gather \"\n",
    "                                     \"any relevant information. Only generate 3 queries max.\")\n",
    "        self.REFLECTION_PROMPT = (\"You are a teacher grading an 3 paragraph essay submission. \"\n",
    "                                  \"Generate critique and recommendations for the user's submission. \"\n",
    "                                  \"Provide detailed recommendations, including requests for length, depth, style, etc.\")\n",
    "        self.RESEARCH_CRITIQUE_PROMPT = (\"You are a researcher charged with providing information that can \"\n",
    "                                         \"be used when making any requested revisions (as outlined below). \"\n",
    "                                         \"Generate a list of search queries that will gather any relevant information. \"\n",
    "                                         \"Only generate 2 queries max.\")\n",
    "        self.tavily = TavilyClient(api_key=os.environ[\"TAVILY_API_KEY\"])\n",
    "        builder = StateGraph(AgentState)\n",
    "        builder.add_node(\"planner\", self.plan_node)\n",
    "        builder.add_node(\"research_plan\", self.research_plan_node)\n",
    "        builder.add_node(\"generate\", self.generation_node)\n",
    "        builder.add_node(\"reflect\", self.reflection_node)\n",
    "        builder.add_node(\"research_critique\", self.research_critique_node)\n",
    "        builder.set_entry_point(\"planner\")\n",
    "        builder.add_conditional_edges(\n",
    "            \"generate\", \n",
    "            self.should_continue, \n",
    "            {END: END, \"reflect\": \"reflect\"}\n",
    "        )\n",
    "        builder.add_edge(\"planner\", \"research_plan\")\n",
    "        builder.add_edge(\"research_plan\", \"generate\")\n",
    "        builder.add_edge(\"reflect\", \"research_critique\")\n",
    "        builder.add_edge(\"research_critique\", \"generate\")\n",
    "        memory = SqliteSaver(conn=sqlite3.connect(\":memory:\", check_same_thread=False))\n",
    "        self.graph = builder.compile(\n",
    "            checkpointer=memory,\n",
    "            interrupt_after=['planner', 'generate', 'reflect', 'research_plan', 'research_critique']\n",
    "        )\n",
    "\n",
    "\n",
    "    def plan_node(self, state: AgentState):\n",
    "        messages = [\n",
    "            SystemMessage(content=self.PLAN_PROMPT), \n",
    "            HumanMessage(content=state['task'])\n",
    "        ]\n",
    "        response = self.model.invoke(messages)\n",
    "        return {\"plan\": response.content,\n",
    "               \"lnode\": \"planner\",\n",
    "                \"count\": 1,\n",
    "               }\n",
    "    def research_plan_node(self, state: AgentState):\n",
    "        queries = self.model.with_structured_output(Queries).invoke([\n",
    "            SystemMessage(content=self.RESEARCH_PLAN_PROMPT),\n",
    "            HumanMessage(content=state['task'])\n",
    "        ])\n",
    "        content = state['content'] or []  # add to content\n",
    "        for q in queries.queries:\n",
    "            response = self.tavily.search(query=q, max_results=2)\n",
    "            for r in response['results']:\n",
    "                content.append(r['content'])\n",
    "        return {\"content\": content,\n",
    "                \"queries\": queries.queries,\n",
    "               \"lnode\": \"research_plan\",\n",
    "                \"count\": 1,\n",
    "               }\n",
    "    def generation_node(self, state: AgentState):\n",
    "        content = \"\\n\\n\".join(state['content'] or [])\n",
    "        user_message = HumanMessage(\n",
    "            content=f\"{state['task']}\\n\\nHere is my plan:\\n\\n{state['plan']}\")\n",
    "        messages = [\n",
    "            SystemMessage(\n",
    "                content=self.WRITER_PROMPT.format(content=content)\n",
    "            ),\n",
    "            user_message\n",
    "            ]\n",
    "        response = self.model.invoke(messages)\n",
    "        return {\n",
    "            \"draft\": response.content, \n",
    "            \"revision_number\": state.get(\"revision_number\", 1) + 1,\n",
    "            \"lnode\": \"generate\",\n",
    "            \"count\": 1,\n",
    "        }\n",
    "    def reflection_node(self, state: AgentState):\n",
    "        messages = [\n",
    "            SystemMessage(content=self.REFLECTION_PROMPT), \n",
    "            HumanMessage(content=state['draft'])\n",
    "        ]\n",
    "        response = self.model.invoke(messages)\n",
    "        return {\"critique\": response.content,\n",
    "               \"lnode\": \"reflect\",\n",
    "                \"count\": 1,\n",
    "        }\n",
    "    def research_critique_node(self, state: AgentState):\n",
    "        queries = self.model.with_structured_output(Queries).invoke([\n",
    "            SystemMessage(content=self.RESEARCH_CRITIQUE_PROMPT),\n",
    "            HumanMessage(content=state['critique'])\n",
    "        ])\n",
    "        content = state['content'] or []\n",
    "        for q in queries.queries:\n",
    "            response = self.tavily.search(query=q, max_results=2)\n",
    "            for r in response['results']:\n",
    "                content.append(r['content'])\n",
    "        return {\"content\": content,\n",
    "               \"lnode\": \"research_critique\",\n",
    "                \"count\": 1,\n",
    "        }\n",
    "    def should_continue(self, state):\n",
    "        if state[\"revision_number\"] > state[\"max_revisions\"]:\n",
    "            return END\n",
    "        return \"reflect\"\n",
    "\n",
    "import gradio as gr\n",
    "import time\n",
    "\n",
    "class writer_gui( ):\n",
    "    def __init__(self, graph, share=False):\n",
    "        self.graph = graph\n",
    "        self.share = share\n",
    "        self.partial_message = \"\"\n",
    "        self.response = {}\n",
    "        self.max_iterations = 10\n",
    "        self.iterations = []\n",
    "        self.threads = []\n",
    "        self.thread_id = -1\n",
    "        self.thread = {\"configurable\": {\"thread_id\": str(self.thread_id)}}\n",
    "        #self.sdisps = {} #global    \n",
    "        self.demo = self.create_interface()\n",
    "\n",
    "    def run_agent(self, start,topic,stop_after):\n",
    "        #global partial_message, thread_id,thread\n",
    "        #global response, max_iterations, iterations, threads\n",
    "        if start:\n",
    "            self.iterations.append(0)\n",
    "            config = {'task': topic,\"max_revisions\": 2,\"revision_number\": 0,\n",
    "                      'lnode': \"\", 'planner': \"no plan\", 'draft': \"no draft\", 'critique': \"no critique\", \n",
    "                      'content': [\"no content\",], 'queries': \"no queries\", 'count':0}\n",
    "            self.thread_id += 1  # new agent, new thread\n",
    "            self.threads.append(self.thread_id)\n",
    "        else:\n",
    "            config = None\n",
    "        self.thread = {\"configurable\": {\"thread_id\": str(self.thread_id)}}\n",
    "        while self.iterations[self.thread_id] < self.max_iterations:\n",
    "            self.response = self.graph.invoke(config, self.thread)\n",
    "            self.iterations[self.thread_id] += 1\n",
    "            self.partial_message += str(self.response)\n",
    "            self.partial_message += f\"\\n------------------\\n\\n\"\n",
    "            ## fix\n",
    "            lnode,nnode,_,rev,acount = self.get_disp_state()\n",
    "            yield self.partial_message,lnode,nnode,self.thread_id,rev,acount\n",
    "            config = None #need\n",
    "            #print(f\"run_agent:{lnode}\")\n",
    "            if not nnode:  \n",
    "                #print(\"Hit the end\")\n",
    "                return\n",
    "            if lnode in stop_after:\n",
    "                #print(f\"stopping due to stop_after {lnode}\")\n",
    "                return\n",
    "            else:\n",
    "                #print(f\"Not stopping on lnode {lnode}\")\n",
    "                pass\n",
    "        return\n",
    "    \n",
    "    def get_disp_state(self,):\n",
    "        current_state = self.graph.get_state(self.thread)\n",
    "        lnode = current_state.values[\"lnode\"]\n",
    "        acount = current_state.values[\"count\"]\n",
    "        rev = current_state.values[\"revision_number\"]\n",
    "        nnode = current_state.next\n",
    "        #print  (lnode,nnode,self.thread_id,rev,acount)\n",
    "        return lnode,nnode,self.thread_id,rev,acount\n",
    "    \n",
    "    def get_state(self,key):\n",
    "        current_values = self.graph.get_state(self.thread)\n",
    "        if key in current_values.values:\n",
    "            lnode,nnode,self.thread_id,rev,astep = self.get_disp_state()\n",
    "            new_label = f\"last_node: {lnode}, thread_id: {self.thread_id}, rev: {rev}, step: {astep}\"\n",
    "            return gr.update(label=new_label, value=current_values.values[key])\n",
    "        else:\n",
    "            return \"\"  \n",
    "    \n",
    "    def get_content(self,):\n",
    "        current_values = self.graph.get_state(self.thread)\n",
    "        if \"content\" in current_values.values:\n",
    "            content = current_values.values[\"content\"]\n",
    "            lnode,nnode,thread_id,rev,astep = self.get_disp_state()\n",
    "            new_label = f\"last_node: {lnode}, thread_id: {self.thread_id}, rev: {rev}, step: {astep}\"\n",
    "            return gr.update(label=new_label, value=\"\\n\\n\".join(item for item in content) + \"\\n\\n\")\n",
    "        else:\n",
    "            return \"\"  \n",
    "    \n",
    "    def update_hist_pd(self,):\n",
    "        #print(\"update_hist_pd\")\n",
    "        hist = []\n",
    "        # curiously, this generator returns the latest first\n",
    "        for state in self.graph.get_state_history(self.thread):\n",
    "            if state.metadata['step'] < 1:\n",
    "                continue\n",
    "            thread_ts = state.config['configurable']['thread_ts']\n",
    "            tid = state.config['configurable']['thread_id']\n",
    "            count = state.values['count']\n",
    "            lnode = state.values['lnode']\n",
    "            rev = state.values['revision_number']\n",
    "            nnode = state.next\n",
    "            st = f\"{tid}:{count}:{lnode}:{nnode}:{rev}:{thread_ts}\"\n",
    "            hist.append(st)\n",
    "        return gr.Dropdown(label=\"update_state from: thread:count:last_node:next_node:rev:thread_ts\", \n",
    "                           choices=hist, value=hist[0],interactive=True)\n",
    "    \n",
    "    def find_config(self,thread_ts):\n",
    "        for state in self.graph.get_state_history(self.thread):\n",
    "            config = state.config\n",
    "            if config['configurable']['thread_ts'] == thread_ts:\n",
    "                return config\n",
    "        return(None)\n",
    "            \n",
    "    def copy_state(self,hist_str):\n",
    "        ''' result of selecting an old state from the step pulldown. Note does not change thread. \n",
    "             This copies an old state to a new current state. \n",
    "        '''\n",
    "        thread_ts = hist_str.split(\":\")[-1]\n",
    "        #print(f\"copy_state from {thread_ts}\")\n",
    "        config = self.find_config(thread_ts)\n",
    "        #print(config)\n",
    "        state = self.graph.get_state(config)\n",
    "        self.graph.update_state(self.thread, state.values, as_node=state.values['lnode'])\n",
    "        new_state = self.graph.get_state(self.thread)  #should now match\n",
    "        new_thread_ts = new_state.config['configurable']['thread_ts']\n",
    "        tid = new_state.config['configurable']['thread_id']\n",
    "        count = new_state.values['count']\n",
    "        lnode = new_state.values['lnode']\n",
    "        rev = new_state.values['revision_number']\n",
    "        nnode = new_state.next\n",
    "        return lnode,nnode,new_thread_ts,rev,count\n",
    "    \n",
    "    def update_thread_pd(self,):\n",
    "        #print(\"update_thread_pd\")\n",
    "        return gr.Dropdown(label=\"choose thread\", choices=threads, value=self.thread_id,interactive=True)\n",
    "    \n",
    "    def switch_thread(self,new_thread_id):\n",
    "        #print(f\"switch_thread{new_thread_id}\")\n",
    "        self.thread = {\"configurable\": {\"thread_id\": str(new_thread_id)}}\n",
    "        self.thread_id = new_thread_id\n",
    "        return \n",
    "    \n",
    "    def modify_state(self,key,asnode,new_state):\n",
    "        ''' gets the current state, modifes a single value in the state identified by key, and updates state with it.\n",
    "        note that this will create a new 'current state' node. If you do this multiple times with different keys, it will create\n",
    "        one for each update. Note also that it doesn't resume after the update\n",
    "        '''\n",
    "        current_values = self.graph.get_state(self.thread)\n",
    "        current_values.values[key] = new_state\n",
    "        self.graph.update_state(self.thread, current_values.values,as_node=asnode)\n",
    "        return\n",
    "\n",
    "\n",
    "    def create_interface(self):\n",
    "        with gr.Blocks(theme=gr.themes.Default(spacing_size='sm',text_size=\"sm\")) as demo:\n",
    "            \n",
    "            def updt_disp():\n",
    "                ''' general update display on state change '''\n",
    "                current_state = self.graph.get_state(self.thread)\n",
    "                hist = []\n",
    "                # curiously, this generator returns the latest first\n",
    "                for state in self.graph.get_state_history(self.thread):\n",
    "                    if state.metadata['step'] < 1:  #ignore early states\n",
    "                        continue\n",
    "                    s_thread_ts = state.config['configurable']['thread_ts']\n",
    "                    s_tid = state.config['configurable']['thread_id']\n",
    "                    s_count = state.values['count']\n",
    "                    s_lnode = state.values['lnode']\n",
    "                    s_rev = state.values['revision_number']\n",
    "                    s_nnode = state.next\n",
    "                    st = f\"{s_tid}:{s_count}:{s_lnode}:{s_nnode}:{s_rev}:{s_thread_ts}\"\n",
    "                    hist.append(st)\n",
    "                if not current_state.metadata: #handle init call\n",
    "                    return{}\n",
    "                else:\n",
    "                    return {\n",
    "                        topic_bx : current_state.values[\"task\"],\n",
    "                        lnode_bx : current_state.values[\"lnode\"],\n",
    "                        count_bx : current_state.values[\"count\"],\n",
    "                        revision_bx : current_state.values[\"revision_number\"],\n",
    "                        nnode_bx : current_state.next,\n",
    "                        threadid_bx : self.thread_id,\n",
    "                        thread_pd : gr.Dropdown(label=\"choose thread\", choices=self.threads, value=self.thread_id,interactive=True),\n",
    "                        step_pd : gr.Dropdown(label=\"update_state from: thread:count:last_node:next_node:rev:thread_ts\", \n",
    "                               choices=hist, value=hist[0],interactive=True),\n",
    "                    }\n",
    "            def get_snapshots():\n",
    "                new_label = f\"thread_id: {self.thread_id}, Summary of snapshots\"\n",
    "                sstate = \"\"\n",
    "                for state in self.graph.get_state_history(self.thread):\n",
    "                    for key in ['plan', 'draft', 'critique']:\n",
    "                        if key in state.values:\n",
    "                            state.values[key] = state.values[key][:80] + \"...\"\n",
    "                    if 'content' in state.values:\n",
    "                        for i in range(len(state.values['content'])):\n",
    "                            state.values['content'][i] = state.values['content'][i][:20] + '...'\n",
    "                    if 'writes' in state.metadata:\n",
    "                        state.metadata['writes'] = \"not shown\"\n",
    "                    sstate += str(state) + \"\\n\\n\"\n",
    "                return gr.update(label=new_label, value=sstate)\n",
    "\n",
    "            def vary_btn(stat):\n",
    "                #print(f\"vary_btn{stat}\")\n",
    "                return(gr.update(variant=stat))\n",
    "            \n",
    "            with gr.Tab(\"Agent\"):\n",
    "                with gr.Row():\n",
    "                    topic_bx = gr.Textbox(label=\"Essay Topic\", value=\"Pizza Shop\")\n",
    "                    gen_btn = gr.Button(\"Generate Essay\", scale=0,min_width=80, variant='primary')\n",
    "                    cont_btn = gr.Button(\"Continue Essay\", scale=0,min_width=80)\n",
    "                with gr.Row():\n",
    "                    lnode_bx = gr.Textbox(label=\"last node\", min_width=100)\n",
    "                    nnode_bx = gr.Textbox(label=\"next node\", min_width=100)\n",
    "                    threadid_bx = gr.Textbox(label=\"Thread\", scale=0, min_width=80)\n",
    "                    revision_bx = gr.Textbox(label=\"Draft Rev\", scale=0, min_width=80)\n",
    "                    count_bx = gr.Textbox(label=\"count\", scale=0, min_width=80)\n",
    "                with gr.Accordion(\"Manage Agent\", open=False):\n",
    "                    checks = list(self.graph.nodes.keys())\n",
    "                    checks.remove('__start__')\n",
    "                    stop_after = gr.CheckboxGroup(checks,label=\"Interrupt After State\", value=checks, scale=0, min_width=400)\n",
    "                    with gr.Row():\n",
    "                        thread_pd = gr.Dropdown(choices=self.threads,interactive=True, label=\"select thread\", min_width=120, scale=0)\n",
    "                        step_pd = gr.Dropdown(choices=['N/A'],interactive=True, label=\"select step\", min_width=160, scale=1)\n",
    "                live = gr.Textbox(label=\"Live Agent Output\", lines=5, max_lines=5)\n",
    "        \n",
    "                # actions\n",
    "                sdisps =[topic_bx,lnode_bx,nnode_bx,threadid_bx,revision_bx,count_bx,step_pd,thread_pd]\n",
    "                thread_pd.input(self.switch_thread, [thread_pd], None).then(\n",
    "                                fn=updt_disp, inputs=None, outputs=sdisps)\n",
    "                step_pd.input(self.copy_state,[step_pd],None).then(\n",
    "                              fn=updt_disp, inputs=None, outputs=sdisps)\n",
    "                gen_btn.click(vary_btn,gr.Number(\"secondary\", visible=False), gen_btn).then(\n",
    "                              fn=self.run_agent, inputs=[gr.Number(True, visible=False),topic_bx,stop_after], outputs=[live],show_progress=True).then(\n",
    "                              fn=updt_disp, inputs=None, outputs=sdisps).then( \n",
    "                              vary_btn,gr.Number(\"primary\", visible=False), gen_btn).then(\n",
    "                              vary_btn,gr.Number(\"primary\", visible=False), cont_btn)\n",
    "                cont_btn.click(vary_btn,gr.Number(\"secondary\", visible=False), cont_btn).then(\n",
    "                               fn=self.run_agent, inputs=[gr.Number(False, visible=False),topic_bx,stop_after], \n",
    "                               outputs=[live]).then(\n",
    "                               fn=updt_disp, inputs=None, outputs=sdisps).then(\n",
    "                               vary_btn,gr.Number(\"primary\", visible=False), cont_btn)\n",
    "        \n",
    "            with gr.Tab(\"Plan\"):\n",
    "                with gr.Row():\n",
    "                    refresh_btn = gr.Button(\"Refresh\")\n",
    "                    modify_btn = gr.Button(\"Modify\")\n",
    "                plan = gr.Textbox(label=\"Plan\", lines=10, interactive=True)\n",
    "                refresh_btn.click(fn=self.get_state, inputs=gr.Number(\"plan\", visible=False), outputs=plan)\n",
    "                modify_btn.click(fn=self.modify_state, inputs=[gr.Number(\"plan\", visible=False),\n",
    "                                                          gr.Number(\"planner\", visible=False), plan],outputs=None).then(\n",
    "                                 fn=updt_disp, inputs=None, outputs=sdisps)\n",
    "            with gr.Tab(\"Research Content\"):\n",
    "                refresh_btn = gr.Button(\"Refresh\")\n",
    "                content_bx = gr.Textbox(label=\"content\", lines=10)\n",
    "                refresh_btn.click(fn=self.get_content, inputs=None, outputs=content_bx)\n",
    "            with gr.Tab(\"Draft\"):\n",
    "                with gr.Row():\n",
    "                    refresh_btn = gr.Button(\"Refresh\")\n",
    "                    modify_btn = gr.Button(\"Modify\")\n",
    "                draft_bx = gr.Textbox(label=\"draft\", lines=10, interactive=True)\n",
    "                refresh_btn.click(fn=self.get_state, inputs=gr.Number(\"draft\", visible=False), outputs=draft_bx)\n",
    "                modify_btn.click(fn=self.modify_state, inputs=[gr.Number(\"draft\", visible=False),\n",
    "                                                          gr.Number(\"generate\", visible=False), draft_bx], outputs=None).then(\n",
    "                                fn=updt_disp, inputs=None, outputs=sdisps)\n",
    "            with gr.Tab(\"Critique\"):\n",
    "                with gr.Row():\n",
    "                    refresh_btn = gr.Button(\"Refresh\")\n",
    "                    modify_btn = gr.Button(\"Modify\")\n",
    "                critique_bx = gr.Textbox(label=\"Critique\", lines=10, interactive=True)\n",
    "                refresh_btn.click(fn=self.get_state, inputs=gr.Number(\"critique\", visible=False), outputs=critique_bx)\n",
    "                modify_btn.click(fn=self.modify_state, inputs=[gr.Number(\"critique\", visible=False),\n",
    "                                                          gr.Number(\"reflect\", visible=False), \n",
    "                                                          critique_bx], outputs=None).then(\n",
    "                                fn=updt_disp, inputs=None, outputs=sdisps)\n",
    "            with gr.Tab(\"StateSnapShots\"):\n",
    "                with gr.Row():\n",
    "                    refresh_btn = gr.Button(\"Refresh\")\n",
    "                snapshots = gr.Textbox(label=\"State Snapshots Summaries\")\n",
    "                refresh_btn.click(fn=get_snapshots, inputs=None, outputs=snapshots)\n",
    "        return demo\n",
    "\n",
    "    def launch(self, share=None):\n",
    "        if port := os.getenv(\"PORT1\"):\n",
    "            self.demo.launch(share=True, server_port=int(port), server_name=\"0.0.0.0\")\n",
    "        else:\n",
    "            self.demo.launch(share=self.share)\n"
   ]
  },
  {
   "cell_type": "code",
   "execution_count": 27,
   "id": "f0ebfa79-c7fc-4aaa-b668-64e5b6cede80",
   "metadata": {
    "height": 64
   },
   "outputs": [
    {
     "name": "stdout",
     "output_type": "stream",
     "text": [
      "IMPORTANT: You are using gradio version 4.31.3, however version 4.44.1 is available, please upgrade.\n",
      "--------\n",
      "Running on local URL:  http://0.0.0.0:8080\n",
      "Running on public URL: https://e3f79d6cc6f165c2ef.gradio.live\n",
      "\n",
      "This share link expires in 72 hours. For free permanent hosting and GPU upgrades, run `gradio deploy` from Terminal to deploy to Spaces (https://huggingface.co/spaces)\n"
     ]
    },
    {
     "data": {
      "text/html": [
       "<div><iframe src=\"https://e3f79d6cc6f165c2ef.gradio.live\" width=\"100%\" height=\"500\" allow=\"autoplay; camera; microphone; clipboard-read; clipboard-write;\" frameborder=\"0\" allowfullscreen></iframe></div>"
      ],
      "text/plain": [
       "<IPython.core.display.HTML object>"
      ]
     },
     "metadata": {},
     "output_type": "display_data"
    }
   ],
   "source": [
    "MultiAgent = ewriter()\n",
    "app = writer_gui(MultiAgent.graph)\n",
    "app.launch()"
   ]
  },
  {
   "cell_type": "code",
   "execution_count": null,
   "id": "592b5e62-a203-433c-92a0-3783f490cde1",
   "metadata": {
    "height": 30
   },
   "outputs": [],
   "source": []
  },
  {
   "cell_type": "code",
   "execution_count": null,
   "id": "14fa923c-7e4f-42d1-965f-0f8ccd50fbd7",
   "metadata": {
    "height": 30
   },
   "outputs": [],
   "source": []
  }
 ],
 "metadata": {
  "kernelspec": {
   "display_name": "Python 3 (ipykernel)",
   "language": "python",
   "name": "python3"
  },
  "language_info": {
   "codemirror_mode": {
    "name": "ipython",
    "version": 3
   },
   "file_extension": ".py",
   "mimetype": "text/x-python",
   "name": "python",
   "nbconvert_exporter": "python",
   "pygments_lexer": "ipython3",
   "version": "3.11.9"
  }
 },
 "nbformat": 4,
 "nbformat_minor": 5
}
